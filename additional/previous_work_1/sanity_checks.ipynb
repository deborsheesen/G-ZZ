{
 "cells": [
  {
   "cell_type": "code",
   "execution_count": 1,
   "metadata": {},
   "outputs": [
    {
     "data": {
      "text/plain": [
       "acf (generic function with 1 method)"
      ]
     },
     "execution_count": 1,
     "metadata": {},
     "output_type": "execute_result"
    }
   ],
   "source": [
    "using PyPlot, Distributions, Optim, TimeIt\n",
    "include(\"ZZ_subsampling.jl\") "
   ]
  },
  {
   "cell_type": "code",
   "execution_count": 2,
   "metadata": {},
   "outputs": [
    {
     "data": {
      "text/plain": [
       "logistic_data (generic function with 2 methods)"
      ]
     },
     "execution_count": 2,
     "metadata": {},
     "output_type": "execute_result"
    }
   ],
   "source": [
    "function logistic_data(d, Nobs, p=0.1) \n",
    "    X = ones(d, Nobs)\n",
    "    X[2:(end-1),:] = rand(d-2, Nobs)\n",
    "    X[:,end] = rand(Normal(),d)\n",
    "    y = rand(Binomial(1,p), Nobs)\n",
    "    return X, y\n",
    "end"
   ]
  },
  {
   "cell_type": "code",
   "execution_count": 3,
   "metadata": {},
   "outputs": [
    {
     "data": {
      "text/plain": [
       "32"
      ]
     },
     "execution_count": 3,
     "metadata": {},
     "output_type": "execute_result"
    }
   ],
   "source": [
    "d, Nobs = 10, 100\n",
    "X, y = logistic_data(d, Nobs, 0.3)\n",
    "X .*= rand(Binomial(1,0.4), d, Nobs)\n",
    "sum(y)"
   ]
  },
  {
   "cell_type": "code",
   "execution_count": 4,
   "metadata": {
    "collapsed": true,
    "scrolled": true
   },
   "outputs": [],
   "source": [
    "σ2 = rand(Uniform(2,5), d)\n",
    "A = eye(d)\n",
    "root = find_root(X, y, σ2);"
   ]
  },
  {
   "cell_type": "code",
   "execution_count": 5,
   "metadata": {
    "collapsed": true
   },
   "outputs": [],
   "source": [
    "ϵ = 1e-5\n",
    "weights_cv = zeros(d, Nobs)\n",
    "for n in 1:Nobs\n",
    "    weights_cv[:,n] = [abs.(X[i,n])*norm(X[:,n]) for i in 1:d] + ϵ\n",
    "end\n",
    "weights_cv ./= sum(weights_cv,2);\n",
    "weights = abs.(X) + ϵ\n",
    "weights ./= sum(weights,2);"
   ]
  },
  {
   "cell_type": "code",
   "execution_count": 6,
   "metadata": {},
   "outputs": [
    {
     "data": {
      "text/plain": [
       "false"
      ]
     },
     "execution_count": 6,
     "metadata": {},
     "output_type": "execute_result"
    }
   ],
   "source": [
    "h = 1\n",
    "replace = false "
   ]
  },
  {
   "cell_type": "code",
   "execution_count": 11,
   "metadata": {
    "collapsed": true
   },
   "outputs": [],
   "source": [
    "mb_size = 10\n",
    "max_time = 5e10\n",
    "max_attempts = 10^5\n",
    "β_0 = zeros(d)\n",
    "θ = ones(d);"
   ]
  },
  {
   "cell_type": "markdown",
   "metadata": {},
   "source": [
    "#### Without control variates:"
   ]
  },
  {
   "cell_type": "code",
   "execution_count": 12,
   "metadata": {},
   "outputs": [
    {
     "name": "stdout",
     "output_type": "stream",
     "text": [
      "0.14 minutes to run \n",
      "Configuration temperatures: \n",
      "iid       : [0.88, 0.96, 0.85, 0.75, 0.75, 1.15, 0.86, 1.17, 1.08, 1.35]\n",
      "weighted  : [1.03, 1.05, 1.05, 1.07, 0.99, 0.89, 0.94, 1.02, 0.95, 0.81]\n",
      "unweighted: [0.97, 1.0, 0.64, 0.72, 0.83, 0.99, 1.2, 0.99, 0.68, 1.52]"
     ]
    }
   ],
   "source": [
    "start = time()\n",
    "s_iid, b_iid, ξ, θ, _1, _2 = \n",
    "ZZ_logistic(X, y, max_time, max_attempts, β_0, θ, mb_size, root, σ2, A, false, nothing, replace)\n",
    "\n",
    "s_unweighted, b_unweighted, ξ, θ, _1, _2 = \n",
    "ZZ_logistic(X, y, max_time, max_attempts, β_0, θ, mb_size, root, σ2, A, false, ones(d,Nobs), replace)\n",
    "\n",
    "s_weighted, b_weighted, ξ, θ, _1, _2 = \n",
    "ZZ_logistic(X, y, max_time, max_attempts, β_0, θ, mb_size, root, σ2, A, false, weights, replace)\n",
    "\n",
    "print( round((time()-start)/60, 2), \" minutes to run \\n\")\n",
    "samples_iid = extract_samples(s_iid, b_iid, h)\n",
    "samples_unweighted = extract_samples(s_unweighted, b_unweighted, h)\n",
    "samples_weighted = extract_samples(s_weighted, b_weighted, h)\n",
    "print(\"Configuration temperatures: \\n\")\n",
    "print(\"iid       : \", round.([compute_configT(samples_iid, i, X, y, Nobs, σ2) for i in 1:d], 2), \"\\n\")\n",
    "print(\"weighted  : \", round.([compute_configT(samples_weighted, i, X, y, Nobs, σ2) for i in 1:d], 2), \"\\n\")\n",
    "print(\"unweighted: \", round.([compute_configT(samples_unweighted, i, X, y, Nobs, σ2) for i in 1:d], 2)) "
   ]
  },
  {
   "cell_type": "code",
   "execution_count": 16,
   "metadata": {},
   "outputs": [
    {
     "data": {
      "text/plain": [
       "(99.52952572130069, 99.67145625475544, 424.5267341741423)"
      ]
     },
     "execution_count": 16,
     "metadata": {},
     "output_type": "execute_result"
    }
   ],
   "source": [
    "b_iid[end], b_unweighted[end], b_weighted[end]"
   ]
  },
  {
   "cell_type": "markdown",
   "metadata": {},
   "source": [
    "#### With control variates:"
   ]
  },
  {
   "cell_type": "code",
   "execution_count": 13,
   "metadata": {},
   "outputs": [
    {
     "name": "stdout",
     "output_type": "stream",
     "text": [
      "0.03 minutes to run \n",
      "Configuration temperatures: \n",
      "CV unweighted: [0.95, 1.12, 1.14, 0.8, 1.15, 1.05, 1.3, 0.92, 0.98, 1.07]\n",
      "CV weighted  : [0.92, 0.97, 1.03, 1.01, 0.99, 0.95, 0.99, 0.88, 0.98, 0.83]"
     ]
    }
   ],
   "source": [
    "start = time()\n",
    "s_cv_unweighted, b_cv_unweighted, ξ, θ, _1, _2 = \n",
    "ZZ_logistic(X, y, max_time, max_attempts, β_0, θ, mb_size, root, σ2, A, true, nothing, replace)\n",
    "\n",
    "s_cv_weighted, b_cv_weighted, ξ, θ, _1, _2 = \n",
    "ZZ_logistic(X, y, max_time, max_attempts, β_0, θ, mb_size, root, σ2, A, true, weights_cv, replace)\n",
    "\n",
    "print( round((time()-start)/60, 2), \" minutes to run \\n\")\n",
    "samples_cv_unweighted = extract_samples(s_cv_unweighted, b_cv_unweighted, h)\n",
    "samples_cv_weighted = extract_samples(s_cv_weighted, b_cv_weighted, h);\n",
    "print(\"Configuration temperatures: \\n\")\n",
    "print(\"CV unweighted: \", round.([compute_configT(samples_cv_unweighted, i, X, y, Nobs, σ2) for i in 1:d],2), \"\\n\")\n",
    "print(\"CV weighted  : \", round.([compute_configT(samples_cv_weighted, i, X, y, Nobs, σ2) for i in 1:d],2))"
   ]
  },
  {
   "cell_type": "code",
   "execution_count": 14,
   "metadata": {},
   "outputs": [
    {
     "data": {
      "text/plain": [
       "(98.75417957435022, 542.8510933146902)"
      ]
     },
     "execution_count": 14,
     "metadata": {},
     "output_type": "execute_result"
    }
   ],
   "source": [
    "b_cv_unweighted[end], b_cv_weighted[end]"
   ]
  },
  {
   "cell_type": "code",
   "execution_count": null,
   "metadata": {
    "collapsed": true
   },
   "outputs": [],
   "source": []
  }
 ],
 "metadata": {
  "kernelspec": {
   "display_name": "Julia 0.6.4",
   "language": "julia",
   "name": "julia-0.6"
  },
  "language_info": {
   "file_extension": ".jl",
   "mimetype": "application/julia",
   "name": "julia",
   "version": "0.6.4"
  }
 },
 "nbformat": 4,
 "nbformat_minor": 2
}

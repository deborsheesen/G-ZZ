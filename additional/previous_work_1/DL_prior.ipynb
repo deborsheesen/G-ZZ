{
 "cells": [
  {
   "cell_type": "code",
   "execution_count": 1,
   "metadata": {
    "collapsed": true
   },
   "outputs": [],
   "source": [
    "using Distributions, StatsBase, TimeIt, ProgressMeter\n",
    "using PyPlot\n",
    "import PyPlot\n",
    "include(\"GenInvGaussian.jl\")\n",
    "include(\"gibbs_zigzag.jl\")\n",
    "\n",
    "# Define abstract type for gaussian prior, sub-types of this abstract types must have attributes mu and sigma2  \n",
    "abstract type prior end\n",
    "abstract type gaussian_prior <:prior end\n",
    "abstract type laplace_prior <:prior end"
   ]
  },
  {
   "cell_type": "code",
   "execution_count": 21,
   "metadata": {},
   "outputs": [
    {
     "data": {
      "text/plain": [
       "Gibbs_zigzag (generic function with 1 method)"
      ]
     },
     "execution_count": 21,
     "metadata": {},
     "output_type": "execute_result"
    }
   ],
   "source": [
    "function Gibbs_zigzag(our_prior::DL_prior, y::Array{Float64}, ξ0::Array{Float64}, n_iter::Int64) \n",
    "    n = length(y)\n",
    "    samples_param = zeros(n_iter, n)\n",
    "    samples_hyperparam = zeros(n_iter+1, 2n+1)\n",
    "    ξ = copy(ξ0)\n",
    "    θ = ones(n)\n",
    "    @showprogress for iter in 1:n_iter \n",
    "        σ2 = get_σ2(our_prior)\n",
    "        ξ, θ, _1, _2 = block_Gibbs_update_params(our_prior, y, ξ, θ, ones(n)*1e-6)\n",
    "        our_prior = block_Gibbs_update_hypparams(our_prior, ξ)\n",
    "        samples_param[iter,:] = copy(ξ)\n",
    "        samples_hyperparam[iter,1:n] = our_prior.ψ\n",
    "        samples_hyperparam[iter,n+1:2n] = our_prior.ϕ\n",
    "        samples_hyperparam[iter,end] = our_prior.τ\n",
    "    end\n",
    "    return samples_param, samples_hyperparam\n",
    "end     "
   ]
  },
  {
   "cell_type": "code",
   "execution_count": 22,
   "metadata": {},
   "outputs": [],
   "source": [
    "n = 100\n",
    "y = rand(Binomial(),n) + 0.\n",
    "our_prior = DL_prior(n, rand(n), rand(n), rand(), 0.5);"
   ]
  },
  {
   "cell_type": "code",
   "execution_count": 6,
   "metadata": {},
   "outputs": [
    {
     "data": {
      "text/plain": [
       "0.5"
      ]
     },
     "execution_count": 6,
     "metadata": {},
     "output_type": "execute_result"
    }
   ],
   "source": [
    "our_prior.a"
   ]
  },
  {
   "cell_type": "code",
   "execution_count": 23,
   "metadata": {},
   "outputs": [],
   "source": [
    "ξ0 = rand(n) \n",
    "n_iter = 10^2\n",
    "samples_param = zeros(n_iter, n)\n",
    "samples_hyperparam = zeros(n_iter+1, 2n+1)\n",
    "ξ = copy(ξ0)\n",
    "θ = ones(n);"
   ]
  },
  {
   "cell_type": "code",
   "execution_count": 24,
   "metadata": {},
   "outputs": [
    {
     "data": {
      "text/plain": [
       "([0.238377, 0.685405, 0.341406, 0.355973, 0.805604, 0.665487, 0.224805, 0.990808, 0.980752, 0.653223  …  0.304237, 0.0689562, 0.711705, 0.910078, 0.948613, 0.916614, 0.857441, 0.480932, 0.205787, 0.794139], [1.0, 1.0, 1.0, 1.0, 1.0, 1.0, 1.0, 1.0, 1.0, 1.0  …  1.0, 1.0, 1.0, 1.0, 1.0, 1.0, 1.0, 1.0, 1.0, 1.0], [0.0, 0.0, 0.0, 0.0, 0.0, 0.0, 0.0, 0.0, 0.0, 0.0  …  0.0, 0.0, 0.0, 0.0, 0.0, 0.0, 0.0, 0.0, 0.0, 0.0], [0.0, 0.0, 0.0, 0.0, 0.0, 0.0, 0.0, 0.0, 0.0, 0.0  …  0.0, 0.0, 0.0, 0.0, 0.0, 0.0, 0.0, 0.0, 0.0, 0.0])"
      ]
     },
     "execution_count": 24,
     "metadata": {},
     "output_type": "execute_result"
    }
   ],
   "source": [
    "σ2 = get_σ2(our_prior)\n",
    "ξ, θ, _1, _2 = block_Gibbs_update_params(our_prior, y, ξ, θ, ones(n)*1e-6)"
   ]
  },
  {
   "cell_type": "code",
   "execution_count": 28,
   "metadata": {},
   "outputs": [],
   "source": [
    "β = copy(ξ);"
   ]
  },
  {
   "cell_type": "code",
   "execution_count": 29,
   "metadata": {},
   "outputs": [
    {
     "name": "stdout",
     "output_type": "stream",
     "text": [
      "10000 loops, best of 3: 38.88 µs per loop\n",
      "100000 loops, best of 3: 7.99 µs per loop\n"
     ]
    },
    {
     "ename": "LoadError",
     "evalue": "\u001b[91mInterruptException:\u001b[39m",
     "output_type": "error",
     "traceback": [
      "\u001b[91mInterruptException:\u001b[39m",
      "",
      "Stacktrace:",
      " [1] \u001b[1m(::#acceptrate#8)\u001b[22m\u001b[22m\u001b[1m(\u001b[22m\u001b[22m::Float64\u001b[1m)\u001b[22m\u001b[22m at \u001b[1m/home/postdoc/dsen/Desktop/PDMP/G-ZZ/GenInvGaussian.jl:27\u001b[22m\u001b[22m",
      " [2] \u001b[1mrand_GenInvGaussian\u001b[22m\u001b[22m\u001b[1m(\u001b[22m\u001b[22m::Float64, ::Int64, ::Float64\u001b[1m)\u001b[22m\u001b[22m at \u001b[1m/home/postdoc/dsen/Desktop/PDMP/G-ZZ/GenInvGaussian.jl:33\u001b[22m\u001b[22m",
      " [3] \u001b[1mcollect_to!\u001b[22m\u001b[22m\u001b[1m(\u001b[22m\u001b[22m::Array{Float64,1}, ::Base.Generator{UnitRange{Int64},##37#40}, ::Int64, ::Int64\u001b[1m)\u001b[22m\u001b[22m at \u001b[1m./array.jl:503\u001b[22m\u001b[22m",
      " [4] \u001b[1mcollect\u001b[22m\u001b[22m\u001b[1m(\u001b[22m\u001b[22m::Base.Generator{UnitRange{Int64},##37#40}\u001b[1m)\u001b[22m\u001b[22m at \u001b[1m./array.jl:471\u001b[22m\u001b[22m",
      " [5] \u001b[1mmacro expansion\u001b[22m\u001b[22m at \u001b[1m/home/postdoc/dsen/.julia/v0.6/TimeIt/src/TimeIt.jl:22\u001b[22m\u001b[22m [inlined]",
      " [6] \u001b[1manonymous\u001b[22m\u001b[22m at \u001b[1m./<missing>:?\u001b[22m\u001b[22m",
      " [7] \u001b[1minclude_string\u001b[22m\u001b[22m\u001b[1m(\u001b[22m\u001b[22m::String, ::String\u001b[1m)\u001b[22m\u001b[22m at \u001b[1m./loading.jl:522\u001b[22m\u001b[22m",
      " [8] \u001b[1mexecute_request\u001b[22m\u001b[22m\u001b[1m(\u001b[22m\u001b[22m::ZMQ.Socket, ::IJulia.Msg\u001b[1m)\u001b[22m\u001b[22m at \u001b[1m/home/postdoc/dsen/.julia/v0.6/IJulia/src/execute_request.jl:193\u001b[22m\u001b[22m",
      " [9] \u001b[1m(::Compat.#inner#6{Array{Any,1},IJulia.#execute_request,Tuple{ZMQ.Socket,IJulia.Msg}})\u001b[22m\u001b[22m\u001b[1m(\u001b[22m\u001b[22m\u001b[1m)\u001b[22m\u001b[22m at \u001b[1m/home/postdoc/dsen/.julia/v0.6/Compat/src/Compat.jl:189\u001b[22m\u001b[22m",
      " [10] \u001b[1meventloop\u001b[22m\u001b[22m\u001b[1m(\u001b[22m\u001b[22m::ZMQ.Socket\u001b[1m)\u001b[22m\u001b[22m at \u001b[1m/home/postdoc/dsen/.julia/v0.6/IJulia/src/eventloop.jl:8\u001b[22m\u001b[22m",
      " [11] \u001b[1m(::IJulia.##13#16)\u001b[22m\u001b[22m\u001b[1m(\u001b[22m\u001b[22m\u001b[1m)\u001b[22m\u001b[22m at \u001b[1m./task.jl:335\u001b[22m\u001b[22m"
     ]
    }
   ],
   "source": [
    "@timeit our_prior.ψ = [rand(InverseGaussian(our_prior.ϕ[j]*our_prior.τ/abs.(β[j]), 1)) for j in 1:our_prior.n]\n",
    "@timeit our_prior.τ = rand_GenInvGaussian(1-our_prior.n, 1, 2sum(abs.(β)./our_prior.ϕ))\n",
    "@timeit T = [rand_GenInvGaussian(our_prior.a-1, 1, 2abs(β[j])) for j in 1:our_prior.n]\n",
    "@timeit our_prior.ϕ = T/sum(T)"
   ]
  },
  {
   "cell_type": "code",
   "execution_count": null,
   "metadata": {
    "collapsed": true
   },
   "outputs": [],
   "source": []
  },
  {
   "cell_type": "code",
   "execution_count": null,
   "metadata": {
    "collapsed": true
   },
   "outputs": [],
   "source": []
  },
  {
   "cell_type": "code",
   "execution_count": 25,
   "metadata": {
    "scrolled": true
   },
   "outputs": [
    {
     "ename": "LoadError",
     "evalue": "\u001b[91mInterruptException:\u001b[39m",
     "output_type": "error",
     "traceback": [
      "\u001b[91mInterruptException:\u001b[39m",
      "",
      "Stacktrace:",
      " [1] \u001b[1mbroadcast\u001b[22m\u001b[22m\u001b[1m(\u001b[22m\u001b[22m::Function, ::Float64\u001b[1m)\u001b[22m\u001b[22m at \u001b[1m./broadcast.jl:16\u001b[22m\u001b[22m",
      " [2] \u001b[1m(::#acceptrate#8)\u001b[22m\u001b[22m\u001b[1m(\u001b[22m\u001b[22m::Float64\u001b[1m)\u001b[22m\u001b[22m at \u001b[1m/home/postdoc/dsen/Desktop/PDMP/G-ZZ/GenInvGaussian.jl:27\u001b[22m\u001b[22m",
      " [3] \u001b[1mrand_GenInvGaussian\u001b[22m\u001b[22m\u001b[1m(\u001b[22m\u001b[22m::Float64, ::Int64, ::Float64\u001b[1m)\u001b[22m\u001b[22m at \u001b[1m/home/postdoc/dsen/Desktop/PDMP/G-ZZ/GenInvGaussian.jl:33\u001b[22m\u001b[22m",
      " [4] \u001b[1mcollect_to!\u001b[22m\u001b[22m\u001b[1m(\u001b[22m\u001b[22m::Array{Float64,1}, ::Base.Generator{UnitRange{Int64},##15#18{DL_prior,Array{Float64,1}}}, ::Int64, ::Int64\u001b[1m)\u001b[22m\u001b[22m at \u001b[1m./array.jl:503\u001b[22m\u001b[22m",
      " [5] \u001b[1mcollect\u001b[22m\u001b[22m\u001b[1m(\u001b[22m\u001b[22m::Base.Generator{UnitRange{Int64},##15#18{DL_prior,Array{Float64,1}}}\u001b[1m)\u001b[22m\u001b[22m at \u001b[1m./array.jl:471\u001b[22m\u001b[22m",
      " [6] \u001b[1mblock_Gibbs_update_hypparams\u001b[22m\u001b[22m\u001b[1m(\u001b[22m\u001b[22m::DL_prior, ::Array{Float64,1}\u001b[1m)\u001b[22m\u001b[22m at \u001b[1m/home/postdoc/dsen/Desktop/PDMP/G-ZZ/gibbs_zigzag.jl:56\u001b[22m\u001b[22m",
      " [7] \u001b[1minclude_string\u001b[22m\u001b[22m\u001b[1m(\u001b[22m\u001b[22m::String, ::String\u001b[1m)\u001b[22m\u001b[22m at \u001b[1m./loading.jl:522\u001b[22m\u001b[22m",
      " [8] \u001b[1mexecute_request\u001b[22m\u001b[22m\u001b[1m(\u001b[22m\u001b[22m::ZMQ.Socket, ::IJulia.Msg\u001b[1m)\u001b[22m\u001b[22m at \u001b[1m/home/postdoc/dsen/.julia/v0.6/IJulia/src/execute_request.jl:193\u001b[22m\u001b[22m",
      " [9] \u001b[1m(::Compat.#inner#6{Array{Any,1},IJulia.#execute_request,Tuple{ZMQ.Socket,IJulia.Msg}})\u001b[22m\u001b[22m\u001b[1m(\u001b[22m\u001b[22m\u001b[1m)\u001b[22m\u001b[22m at \u001b[1m/home/postdoc/dsen/.julia/v0.6/Compat/src/Compat.jl:189\u001b[22m\u001b[22m",
      " [10] \u001b[1meventloop\u001b[22m\u001b[22m\u001b[1m(\u001b[22m\u001b[22m::ZMQ.Socket\u001b[1m)\u001b[22m\u001b[22m at \u001b[1m/home/postdoc/dsen/.julia/v0.6/IJulia/src/eventloop.jl:8\u001b[22m\u001b[22m",
      " [11] \u001b[1m(::IJulia.##13#16)\u001b[22m\u001b[22m\u001b[1m(\u001b[22m\u001b[22m\u001b[1m)\u001b[22m\u001b[22m at \u001b[1m./task.jl:335\u001b[22m\u001b[22m"
     ]
    }
   ],
   "source": [
    "our_prior = block_Gibbs_update_hypparams(our_prior, ξ)"
   ]
  },
  {
   "cell_type": "code",
   "execution_count": 12,
   "metadata": {},
   "outputs": [],
   "source": []
  },
  {
   "cell_type": "code",
   "execution_count": null,
   "metadata": {
    "collapsed": true
   },
   "outputs": [],
   "source": []
  },
  {
   "cell_type": "code",
   "execution_count": null,
   "metadata": {
    "collapsed": true
   },
   "outputs": [],
   "source": []
  },
  {
   "cell_type": "code",
   "execution_count": null,
   "metadata": {
    "collapsed": true
   },
   "outputs": [],
   "source": []
  },
  {
   "cell_type": "code",
   "execution_count": 37,
   "metadata": {
    "scrolled": true
   },
   "outputs": [
    {
     "ename": "LoadError",
     "evalue": "\u001b[91mInterruptException:\u001b[39m",
     "output_type": "error",
     "traceback": [
      "\u001b[91mInterruptException:\u001b[39m",
      "",
      "Stacktrace:",
      " [1] \u001b[1mbroadcast\u001b[22m\u001b[22m\u001b[1m(\u001b[22m\u001b[22m::Function, ::Float64, ::Float64\u001b[1m)\u001b[22m\u001b[22m at \u001b[1m./broadcast.jl:16\u001b[22m\u001b[22m",
      " [2] \u001b[1m(::#acceptrate#3)\u001b[22m\u001b[22m\u001b[1m(\u001b[22m\u001b[22m::Float64\u001b[1m)\u001b[22m\u001b[22m at \u001b[1m/home/postdoc/dsen/Desktop/PDMP/G-ZZ/GenInvGaussian.jl:27\u001b[22m\u001b[22m",
      " [3] \u001b[1mrand_GenInvGaussian\u001b[22m\u001b[22m\u001b[1m(\u001b[22m\u001b[22m::Float64, ::Int64, ::Float64\u001b[1m)\u001b[22m\u001b[22m at \u001b[1m/home/postdoc/dsen/Desktop/PDMP/G-ZZ/GenInvGaussian.jl:33\u001b[22m\u001b[22m",
      " [4] \u001b[1mcollect_to!\u001b[22m\u001b[22m\u001b[1m(\u001b[22m\u001b[22m::Array{Float64,1}, ::Base.Generator{UnitRange{Int64},##10#13{DL_prior,Array{Float64,1}}}, ::Int64, ::Int64\u001b[1m)\u001b[22m\u001b[22m at \u001b[1m./array.jl:503\u001b[22m\u001b[22m",
      " [5] \u001b[1mcollect\u001b[22m\u001b[22m\u001b[1m(\u001b[22m\u001b[22m::Base.Generator{UnitRange{Int64},##10#13{DL_prior,Array{Float64,1}}}\u001b[1m)\u001b[22m\u001b[22m at \u001b[1m./array.jl:471\u001b[22m\u001b[22m",
      " [6] \u001b[1mblock_Gibbs_update_hypparams\u001b[22m\u001b[22m\u001b[1m(\u001b[22m\u001b[22m::DL_prior, ::Array{Float64,1}\u001b[1m)\u001b[22m\u001b[22m at \u001b[1m./In[3]:10\u001b[22m\u001b[22m",
      " [7] \u001b[1mmacro expansion\u001b[22m\u001b[22m at \u001b[1m./In[35]:10\u001b[22m\u001b[22m [inlined]",
      " [8] \u001b[1mmacro expansion\u001b[22m\u001b[22m at \u001b[1m/home/postdoc/dsen/.julia/v0.6/ProgressMeter/src/ProgressMeter.jl:483\u001b[22m\u001b[22m [inlined]",
      " [9] \u001b[1mGibbs_zigzag\u001b[22m\u001b[22m\u001b[1m(\u001b[22m\u001b[22m::DL_prior, ::Array{Float64,1}, ::Array{Float64,1}, ::Int64\u001b[1m)\u001b[22m\u001b[22m at \u001b[1m./In[35]:7\u001b[22m\u001b[22m",
      " [10] \u001b[1minclude_string\u001b[22m\u001b[22m\u001b[1m(\u001b[22m\u001b[22m::String, ::String\u001b[1m)\u001b[22m\u001b[22m at \u001b[1m./loading.jl:522\u001b[22m\u001b[22m",
      " [11] \u001b[1mexecute_request\u001b[22m\u001b[22m\u001b[1m(\u001b[22m\u001b[22m::ZMQ.Socket, ::IJulia.Msg\u001b[1m)\u001b[22m\u001b[22m at \u001b[1m/home/postdoc/dsen/.julia/v0.6/IJulia/src/execute_request.jl:193\u001b[22m\u001b[22m",
      " [12] \u001b[1m(::Compat.#inner#6{Array{Any,1},IJulia.#execute_request,Tuple{ZMQ.Socket,IJulia.Msg}})\u001b[22m\u001b[22m\u001b[1m(\u001b[22m\u001b[22m\u001b[1m)\u001b[22m\u001b[22m at \u001b[1m/home/postdoc/dsen/.julia/v0.6/Compat/src/Compat.jl:189\u001b[22m\u001b[22m",
      " [13] \u001b[1meventloop\u001b[22m\u001b[22m\u001b[1m(\u001b[22m\u001b[22m::ZMQ.Socket\u001b[1m)\u001b[22m\u001b[22m at \u001b[1m/home/postdoc/dsen/.julia/v0.6/IJulia/src/eventloop.jl:8\u001b[22m\u001b[22m",
      " [14] \u001b[1m(::IJulia.##13#16)\u001b[22m\u001b[22m\u001b[1m(\u001b[22m\u001b[22m\u001b[1m)\u001b[22m\u001b[22m at \u001b[1m./task.jl:335\u001b[22m\u001b[22m"
     ]
    }
   ],
   "source": [
    "ξ0 = rand(n)\n",
    "n_iter = 10^2\n",
    "samples_param, samples_hyperparam = Gibbs_zigzag(our_prior, y, ξ0, n_iter) "
   ]
  },
  {
   "cell_type": "code",
   "execution_count": 38,
   "metadata": {},
   "outputs": [],
   "source": [
    "n = length(y)\n",
    "samples_param = zeros(n_iter, n)\n",
    "samples_hyperparam = zeros(n_iter+1, 2n+1)\n",
    "ξ = copy(ξ0)\n",
    "θ = ones(n);"
   ]
  },
  {
   "cell_type": "code",
   "execution_count": 39,
   "metadata": {},
   "outputs": [
    {
     "ename": "LoadError",
     "evalue": "\u001b[91mInterruptException:\u001b[39m",
     "output_type": "error",
     "traceback": [
      "\u001b[91mInterruptException:\u001b[39m",
      "",
      "Stacktrace:",
      " [1] \u001b[1m(::#acceptrate#3)\u001b[22m\u001b[22m\u001b[1m(\u001b[22m\u001b[22m::Float64\u001b[1m)\u001b[22m\u001b[22m at \u001b[1m/home/postdoc/dsen/Desktop/PDMP/G-ZZ/GenInvGaussian.jl:27\u001b[22m\u001b[22m",
      " [2] \u001b[1mrand_GenInvGaussian\u001b[22m\u001b[22m\u001b[1m(\u001b[22m\u001b[22m::Float64, ::Int64, ::Float64\u001b[1m)\u001b[22m\u001b[22m at \u001b[1m/home/postdoc/dsen/Desktop/PDMP/G-ZZ/GenInvGaussian.jl:33\u001b[22m\u001b[22m",
      " [3] \u001b[1mcollect_to!\u001b[22m\u001b[22m\u001b[1m(\u001b[22m\u001b[22m::Array{Float64,1}, ::Base.Generator{UnitRange{Int64},##10#13{DL_prior,Array{Float64,1}}}, ::Int64, ::Int64\u001b[1m)\u001b[22m\u001b[22m at \u001b[1m./array.jl:503\u001b[22m\u001b[22m",
      " [4] \u001b[1mcollect\u001b[22m\u001b[22m\u001b[1m(\u001b[22m\u001b[22m::Base.Generator{UnitRange{Int64},##10#13{DL_prior,Array{Float64,1}}}\u001b[1m)\u001b[22m\u001b[22m at \u001b[1m./array.jl:471\u001b[22m\u001b[22m",
      " [5] \u001b[1mblock_Gibbs_update_hypparams\u001b[22m\u001b[22m\u001b[1m(\u001b[22m\u001b[22m::DL_prior, ::Array{Float64,1}\u001b[1m)\u001b[22m\u001b[22m at \u001b[1m./In[3]:10\u001b[22m\u001b[22m",
      " [6] \u001b[1mmacro expansion\u001b[22m\u001b[22m at \u001b[1m./In[39]:4\u001b[22m\u001b[22m [inlined]",
      " [7] \u001b[1mmacro expansion\u001b[22m\u001b[22m at \u001b[1m/home/postdoc/dsen/.julia/v0.6/ProgressMeter/src/ProgressMeter.jl:483\u001b[22m\u001b[22m [inlined]",
      " [8] \u001b[1manonymous\u001b[22m\u001b[22m at \u001b[1m./<missing>:?\u001b[22m\u001b[22m",
      " [9] \u001b[1minclude_string\u001b[22m\u001b[22m\u001b[1m(\u001b[22m\u001b[22m::String, ::String\u001b[1m)\u001b[22m\u001b[22m at \u001b[1m./loading.jl:522\u001b[22m\u001b[22m",
      " [10] \u001b[1mexecute_request\u001b[22m\u001b[22m\u001b[1m(\u001b[22m\u001b[22m::ZMQ.Socket, ::IJulia.Msg\u001b[1m)\u001b[22m\u001b[22m at \u001b[1m/home/postdoc/dsen/.julia/v0.6/IJulia/src/execute_request.jl:193\u001b[22m\u001b[22m",
      " [11] \u001b[1m(::Compat.#inner#6{Array{Any,1},IJulia.#execute_request,Tuple{ZMQ.Socket,IJulia.Msg}})\u001b[22m\u001b[22m\u001b[1m(\u001b[22m\u001b[22m\u001b[1m)\u001b[22m\u001b[22m at \u001b[1m/home/postdoc/dsen/.julia/v0.6/Compat/src/Compat.jl:189\u001b[22m\u001b[22m",
      " [12] \u001b[1meventloop\u001b[22m\u001b[22m\u001b[1m(\u001b[22m\u001b[22m::ZMQ.Socket\u001b[1m)\u001b[22m\u001b[22m at \u001b[1m/home/postdoc/dsen/.julia/v0.6/IJulia/src/eventloop.jl:8\u001b[22m\u001b[22m",
      " [13] \u001b[1m(::IJulia.##13#16)\u001b[22m\u001b[22m\u001b[1m(\u001b[22m\u001b[22m\u001b[1m)\u001b[22m\u001b[22m at \u001b[1m./task.jl:335\u001b[22m\u001b[22m"
     ]
    }
   ],
   "source": [
    "@showprogress for iter in 1:n_iter \n",
    "    σ2 = get_σ2(our_prior)\n",
    "    ξ, θ, _, __ = block_Gibbs_update_params(our_prior, y, ξ, θ, ones(n)*1e-6)\n",
    "    our_prior = block_Gibbs_update_hypparams(our_prior, ξ)\n",
    "    samples_param[iter,:] = copy(ξ)\n",
    "    samples_hyperparam[iter,1:n] = our_prior.ψ\n",
    "    samples_hyperparam[iter,n+1:2n] = our_prior.ϕ\n",
    "    samples_hyperparam[iter,end] = our_prior.τ\n",
    "end"
   ]
  },
  {
   "cell_type": "code",
   "execution_count": 56,
   "metadata": {
    "scrolled": true
   },
   "outputs": [
    {
     "data": {
      "text/plain": [
       "([-3.25192, 34.0855, 9.28155, -5.21782, -14.1643, -39.6045, 0.251903, 0.443602, 1.51574, 18.3966  …  0.783151, 1.17662, 0.764553, 0.87581, 0.266763, 0.193569, 0.613415, 0.364144, 0.534146, -0.067337], [1.0, -1.0, -1.0, 1.0, 1.0, 1.0, 1.0, -1.0, -1.0, -1.0  …  -1.0, 1.0, 1.0, -1.0, -1.0, -1.0, -1.0, 1.0, -1.0, -1.0], [0.0, 0.0, 0.0, 0.0, 0.0, 0.0, 0.0, 0.0, 0.0, 0.0  …  0.0, 0.0, 0.0, 0.0, 0.0, 0.0, 1.0, 0.0, 0.0, 0.0], [3.0, 49.0, 11.0, 7.0, 15.0, 38.0, 2.0, 0.0, 0.0, 15.0  …  2.0, 0.0, 0.0, 1.0, 0.0, 1.0, 2.0, 0.0, 0.0, 1.0])"
      ]
     },
     "execution_count": 56,
     "metadata": {},
     "output_type": "execute_result"
    }
   ],
   "source": [
    "σ2 = get_σ2(our_prior)\n",
    "ξ, θ, _1, _2 = block_Gibbs_update_params(our_prior, y, ξ, θ, σ2)\n",
    "# our_prior = block_Gibbs_update_hypparams(our_prior, ξ)\n",
    "# samples_param[iter,:] = copy(ξ)\n",
    "# samples_hyperparam[iter,1:n] = our_prior.ψ\n",
    "# samples_hyperparam[iter,n+1:2n] = our_prior.ϕ\n",
    "# samples_hyperparam[iter,end] = our_prior.τ"
   ]
  },
  {
   "cell_type": "code",
   "execution_count": 57,
   "metadata": {},
   "outputs": [
    {
     "ename": "LoadError",
     "evalue": "\u001b[91mInterruptException:\u001b[39m",
     "output_type": "error",
     "traceback": [
      "\u001b[91mInterruptException:\u001b[39m",
      "",
      "Stacktrace:",
      " [1] \u001b[1m(::#acceptrate#3)\u001b[22m\u001b[22m\u001b[1m(\u001b[22m\u001b[22m::Float64\u001b[1m)\u001b[22m\u001b[22m at \u001b[1m/home/postdoc/dsen/Desktop/PDMP/G-ZZ/GenInvGaussian.jl:27\u001b[22m\u001b[22m",
      " [2] \u001b[1mrand_GenInvGaussian\u001b[22m\u001b[22m\u001b[1m(\u001b[22m\u001b[22m::Float64, ::Int64, ::Float64\u001b[1m)\u001b[22m\u001b[22m at \u001b[1m/home/postdoc/dsen/Desktop/PDMP/G-ZZ/GenInvGaussian.jl:33\u001b[22m\u001b[22m",
      " [3] \u001b[1mcollect_to!\u001b[22m\u001b[22m\u001b[1m(\u001b[22m\u001b[22m::Array{Float64,1}, ::Base.Generator{UnitRange{Int64},##10#13{DL_prior,Array{Float64,1}}}, ::Int64, ::Int64\u001b[1m)\u001b[22m\u001b[22m at \u001b[1m./array.jl:503\u001b[22m\u001b[22m",
      " [4] \u001b[1mcollect\u001b[22m\u001b[22m\u001b[1m(\u001b[22m\u001b[22m::Base.Generator{UnitRange{Int64},##10#13{DL_prior,Array{Float64,1}}}\u001b[1m)\u001b[22m\u001b[22m at \u001b[1m./array.jl:471\u001b[22m\u001b[22m",
      " [5] \u001b[1mblock_Gibbs_update_hypparams\u001b[22m\u001b[22m\u001b[1m(\u001b[22m\u001b[22m::DL_prior, ::Array{Float64,1}\u001b[1m)\u001b[22m\u001b[22m at \u001b[1m./In[3]:10\u001b[22m\u001b[22m",
      " [6] \u001b[1minclude_string\u001b[22m\u001b[22m\u001b[1m(\u001b[22m\u001b[22m::String, ::String\u001b[1m)\u001b[22m\u001b[22m at \u001b[1m./loading.jl:522\u001b[22m\u001b[22m",
      " [7] \u001b[1mexecute_request\u001b[22m\u001b[22m\u001b[1m(\u001b[22m\u001b[22m::ZMQ.Socket, ::IJulia.Msg\u001b[1m)\u001b[22m\u001b[22m at \u001b[1m/home/postdoc/dsen/.julia/v0.6/IJulia/src/execute_request.jl:193\u001b[22m\u001b[22m",
      " [8] \u001b[1m(::Compat.#inner#6{Array{Any,1},IJulia.#execute_request,Tuple{ZMQ.Socket,IJulia.Msg}})\u001b[22m\u001b[22m\u001b[1m(\u001b[22m\u001b[22m\u001b[1m)\u001b[22m\u001b[22m at \u001b[1m/home/postdoc/dsen/.julia/v0.6/Compat/src/Compat.jl:189\u001b[22m\u001b[22m",
      " [9] \u001b[1meventloop\u001b[22m\u001b[22m\u001b[1m(\u001b[22m\u001b[22m::ZMQ.Socket\u001b[1m)\u001b[22m\u001b[22m at \u001b[1m/home/postdoc/dsen/.julia/v0.6/IJulia/src/eventloop.jl:8\u001b[22m\u001b[22m",
      " [10] \u001b[1m(::IJulia.##13#16)\u001b[22m\u001b[22m\u001b[1m(\u001b[22m\u001b[22m\u001b[1m)\u001b[22m\u001b[22m at \u001b[1m./task.jl:335\u001b[22m\u001b[22m"
     ]
    }
   ],
   "source": [
    "our_prior = block_Gibbs_update_hypparams(our_prior, ξ)"
   ]
  },
  {
   "cell_type": "code",
   "execution_count": null,
   "metadata": {
    "collapsed": true
   },
   "outputs": [],
   "source": [
    "our_prior.ψ = [rand(InverseGaussian(our_prior.ϕ[j]*our_prior.τ/abs.(ξ[j]), 1)) for j in 1:our_prior.n]\n",
    "our_prior.τ = rand_GenInvGaussian(1-our_prior.n, 1, 2sum(abs.(ξ)./our_prior.ϕ))\n",
    "T = [rand_GenInvGaussian(our_prior.a-1, 1, 2abs(ξ[j])) for j in 1:our_prior.n]\n",
    "our_prior.ϕ = T/sum(T)"
   ]
  },
  {
   "cell_type": "code",
   "execution_count": 62,
   "metadata": {},
   "outputs": [
    {
     "ename": "LoadError",
     "evalue": "\u001b[91mInterruptException:\u001b[39m",
     "output_type": "error",
     "traceback": [
      "\u001b[91mInterruptException:\u001b[39m",
      "",
      "Stacktrace:",
      " [1] \u001b[1mbroadcast\u001b[22m\u001b[22m\u001b[1m(\u001b[22m\u001b[22m::Function, ::Float64, ::Float64\u001b[1m)\u001b[22m\u001b[22m at \u001b[1m./broadcast.jl:16\u001b[22m\u001b[22m",
      " [2] \u001b[1m(::#acceptrate#3)\u001b[22m\u001b[22m\u001b[1m(\u001b[22m\u001b[22m::Float64\u001b[1m)\u001b[22m\u001b[22m at \u001b[1m/home/postdoc/dsen/Desktop/PDMP/G-ZZ/GenInvGaussian.jl:27\u001b[22m\u001b[22m",
      " [3] \u001b[1mrand_GenInvGaussian\u001b[22m\u001b[22m\u001b[1m(\u001b[22m\u001b[22m::Float64, ::Int64, ::Float64\u001b[1m)\u001b[22m\u001b[22m at \u001b[1m/home/postdoc/dsen/Desktop/PDMP/G-ZZ/GenInvGaussian.jl:33\u001b[22m\u001b[22m",
      " [4] \u001b[1mcollect_to!\u001b[22m\u001b[22m\u001b[1m(\u001b[22m\u001b[22m::Array{Float64,1}, ::Base.Generator{UnitRange{Int64},##22#23}, ::Int64, ::Int64\u001b[1m)\u001b[22m\u001b[22m at \u001b[1m./array.jl:503\u001b[22m\u001b[22m",
      " [5] \u001b[1mcollect\u001b[22m\u001b[22m\u001b[1m(\u001b[22m\u001b[22m::Base.Generator{UnitRange{Int64},##22#23}\u001b[1m)\u001b[22m\u001b[22m at \u001b[1m./array.jl:471\u001b[22m\u001b[22m",
      " [6] \u001b[1minclude_string\u001b[22m\u001b[22m\u001b[1m(\u001b[22m\u001b[22m::String, ::String\u001b[1m)\u001b[22m\u001b[22m at \u001b[1m./loading.jl:522\u001b[22m\u001b[22m",
      " [7] \u001b[1mexecute_request\u001b[22m\u001b[22m\u001b[1m(\u001b[22m\u001b[22m::ZMQ.Socket, ::IJulia.Msg\u001b[1m)\u001b[22m\u001b[22m at \u001b[1m/home/postdoc/dsen/.julia/v0.6/IJulia/src/execute_request.jl:193\u001b[22m\u001b[22m",
      " [8] \u001b[1m(::Compat.#inner#6{Array{Any,1},IJulia.#execute_request,Tuple{ZMQ.Socket,IJulia.Msg}})\u001b[22m\u001b[22m\u001b[1m(\u001b[22m\u001b[22m\u001b[1m)\u001b[22m\u001b[22m at \u001b[1m/home/postdoc/dsen/.julia/v0.6/Compat/src/Compat.jl:189\u001b[22m\u001b[22m",
      " [9] \u001b[1meventloop\u001b[22m\u001b[22m\u001b[1m(\u001b[22m\u001b[22m::ZMQ.Socket\u001b[1m)\u001b[22m\u001b[22m at \u001b[1m/home/postdoc/dsen/.julia/v0.6/IJulia/src/eventloop.jl:8\u001b[22m\u001b[22m",
      " [10] \u001b[1m(::IJulia.##13#16)\u001b[22m\u001b[22m\u001b[1m(\u001b[22m\u001b[22m\u001b[1m)\u001b[22m\u001b[22m at \u001b[1m./task.jl:335\u001b[22m\u001b[22m"
     ]
    }
   ],
   "source": [
    "T = [rand_GenInvGaussian(our_prior.a-1, 1, 2abs(ξ[j])) for j in 1:our_prior.n]"
   ]
  },
  {
   "cell_type": "code",
   "execution_count": 65,
   "metadata": {},
   "outputs": [
    {
     "name": "stdout",
     "output_type": "stream",
     "text": [
      "100 loops, best of 3: 3.12 ms per loop\n"
     ]
    }
   ],
   "source": [
    "@timeit [rand_GenInvGaussian(1-our_prior.n, 1, 2sum(abs.(ξ)./our_prior.ϕ)) for i in 1:our_prior.n];"
   ]
  },
  {
   "cell_type": "code",
   "execution_count": 74,
   "metadata": {},
   "outputs": [
    {
     "name": "stdout",
     "output_type": "stream",
     "text": [
      "100000 loops, best of 3: 1.29 µs per loop\n"
     ]
    }
   ],
   "source": [
    "@timeit [rand_GenInvGaussian(-20000, 1, 2abs(ξ[j])) for j in 1:1];"
   ]
  },
  {
   "cell_type": "code",
   "execution_count": 67,
   "metadata": {},
   "outputs": [
    {
     "data": {
      "text/plain": [
       "(-0.5, 1, 6.503839341405488)"
      ]
     },
     "execution_count": 67,
     "metadata": {},
     "output_type": "execute_result"
    }
   ],
   "source": [
    "our_prior.a-1, 1, 2abs(ξ[1])"
   ]
  },
  {
   "cell_type": "code",
   "execution_count": null,
   "metadata": {
    "collapsed": true
   },
   "outputs": [],
   "source": []
  },
  {
   "cell_type": "code",
   "execution_count": 22,
   "metadata": {},
   "outputs": [
    {
     "data": {
      "text/plain": [
       "compute_configT (generic function with 1 method)"
      ]
     },
     "execution_count": 22,
     "metadata": {},
     "output_type": "execute_result"
    }
   ],
   "source": []
  },
  {
   "cell_type": "code",
   "execution_count": null,
   "metadata": {
    "collapsed": true
   },
   "outputs": [],
   "source": []
  }
 ],
 "metadata": {
  "kernelspec": {
   "display_name": "Julia 0.6.4",
   "language": "julia",
   "name": "julia-0.6"
  },
  "language_info": {
   "file_extension": ".jl",
   "mimetype": "application/julia",
   "name": "julia",
   "version": "0.6.4"
  }
 },
 "nbformat": 4,
 "nbformat_minor": 2
}

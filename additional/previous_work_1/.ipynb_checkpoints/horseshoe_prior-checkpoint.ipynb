{
 "cells": [
  {
   "cell_type": "code",
   "execution_count": 1,
   "metadata": {},
   "outputs": [
    {
     "data": {
      "text/plain": [
       "GibbsHMC (generic function with 3 methods)"
      ]
     },
     "execution_count": 1,
     "metadata": {},
     "output_type": "execute_result"
    }
   ],
   "source": [
    "using Distributions, TimeIt, ProgressMeter, PyPlot\n",
    "include(\"/home/postdoc/dsen/Desktop/codes/G-ZZ/jl_files/zz_samplers.jl\")"
   ]
  },
  {
   "cell_type": "code",
   "execution_count": 2,
   "metadata": {},
   "outputs": [
    {
     "data": {
      "text/plain": [
       "run_sampler (generic function with 4 methods)"
      ]
     },
     "execution_count": 2,
     "metadata": {},
     "output_type": "execute_result"
    }
   ],
   "source": [
    "function run_sampler(my_model, lambda, max_attempts, mb_size, Print=false, prob_het=0.98, adapt_speed=\"none\") \n",
    "    \n",
    "    d, Nobs = size(my_model.ll.X)\n",
    "    \n",
    "    # Define minibatch sampler list:\n",
    "    gs = Array{mbsampler}(d)\n",
    "    gs[1] = umbsampler(0, Nobs, mb_size)\n",
    "\n",
    "    for i in 2:d\n",
    "        weights_het = abs.(my_model.ll.X[i,:])./sum(abs.(my_model.ll.X[i,:]))\n",
    "        if length(my_model.ll.X[i,:].nzind) < length(my_model.ll.X[i,:]) \n",
    "            gs[i] = spwumbsampler(Nobs, mb_size, weights_het, prob_het)\n",
    "        else \n",
    "            gs[i] = wumbsampler(Nobs, mb_size, weights_het)\n",
    "        end\n",
    "    end\n",
    "    gs_list = mbsampler_list(d,gs);\n",
    "    \n",
    "    A_xi = eye(d)\n",
    "    A_hyp = ones(1,hyperparam_size(my_model.pr))/hyperparam_size(my_model.pr)\n",
    "\n",
    "    opf = projopf(A_xi, A_hyp, 10^3)\n",
    "    opt = maxa_opt(max_attempts)\n",
    "    outp = outputscheduler(opf,opt)\n",
    "    bb = linear_bound(my_model.ll, my_model.pr, gs_list)\n",
    "    mstate = zz_state(d)\n",
    "    update_bound(bb, my_model.ll, my_model.pr, gs_list, mstate)\n",
    "    \n",
    "    # Define block Gibbs sampler:\n",
    "    L = 1\n",
    "    my_zz_sampler = zz_sampler(0, gs_list, bb, L, adapt_speed)\n",
    "    hyper_sampler = block_gibbs_sampler(lambda)\n",
    "    blocksampler = Array{msampler}(2)\n",
    "    blocksampler[1] = my_zz_sampler\n",
    "    blocksampler[2] = hyper_sampler\n",
    "    \n",
    "    # Run sampler:\n",
    "    ZZ_block_sample(my_model, outp, blocksampler, mstate, Print)\n",
    "    gc()\n",
    "    return outp\n",
    "end"
   ]
  },
  {
   "cell_type": "markdown",
   "metadata": {},
   "source": [
    "#### Simulate data:"
   ]
  },
  {
   "cell_type": "code",
   "execution_count": 3,
   "metadata": {},
   "outputs": [],
   "source": [
    "d, Nobs = 20, 50\n",
    "pX, pξ = 1e-1, 1e-1\n",
    "X = sprandn(d, Nobs, pX)\n",
    "X[1,:] = ones(Nobs)\n",
    "ξ_true = sprandn(d,pξ)\n",
    "ξ_true[1] = randn()\n",
    "y = Float64.([rand(Binomial(1, 1/(1+exp(-ξ_true'X[:,j]))), 1)[1] for j in 1:Nobs])\n",
    "mb_size = 5\n",
    "σ02 = 1;\n",
    "# prior = HS_prior(d, 10^4, rand(d), rand(), rand(d), rand())"
   ]
  },
  {
   "cell_type": "code",
   "execution_count": 4,
   "metadata": {
    "collapsed": true
   },
   "outputs": [],
   "source": [
    "my_pr = SS_prior(d, σ02)\n",
    "my_ll = ll_logistic_sp(X,y)\n",
    "my_model = model(my_ll, my_pr);"
   ]
  },
  {
   "cell_type": "markdown",
   "metadata": {},
   "source": [
    "### GZZ:"
   ]
  },
  {
   "cell_type": "code",
   "execution_count": 5,
   "metadata": {
    "collapsed": true
   },
   "outputs": [],
   "source": [
    "mb_size = 1\n",
    "max_attempts = 10^5\n",
    "lambda = 2e1\n",
    "Print = true;"
   ]
  },
  {
   "cell_type": "code",
   "execution_count": 6,
   "metadata": {},
   "outputs": [
    {
     "name": "stdout",
     "output_type": "stream",
     "text": [
      "10 percent attempts in 0.07 min; zz bounces = 1377, hyp bounces = 1112, total time of process = 57.322 \n",
      "20 percent attempts in 0.11 min; zz bounces = 2562, hyp bounces = 2244, total time of process = 114.413 \n",
      "30 percent attempts in 0.16 min; zz bounces = 3759, hyp bounces = 3333, total time of process = 172.195 \n",
      "40 percent attempts in 0.20 min; zz bounces = 4965, hyp bounces = 4518, total time of process = 230.102 \n",
      "50 percent attempts in 0.24 min; zz bounces = 6113, hyp bounces = 5653, total time of process = 288.823 \n",
      "60 percent attempts in 0.28 min; zz bounces = 7392, hyp bounces = 6838, total time of process = 346.503 \n",
      "70 percent attempts in 0.32 min; zz bounces = 8583, hyp bounces = 7975, total time of process = 404.603 \n",
      "80 percent attempts in 0.37 min; zz bounces = 9840, hyp bounces = 9086, total time of process = 461.620 \n",
      "90 percent attempts in 0.41 min; zz bounces = 11109, hyp bounces = 10227, total time of process = 519.408 \n",
      "100 percent attempts in 0.45 min; zz bounces = 12321, hyp bounces = 11385, total time of process = 578.419 \n",
      "Sampling in 0.5 mins \n"
     ]
    }
   ],
   "source": [
    "start = time()\n",
    "outp = run_sampler(my_model, lambda, max_attempts, mb_size, Print) \n",
    "print(\"Sampling in \", round((time()-start)/60,1), \" mins \\n\")"
   ]
  },
  {
   "cell_type": "code",
   "execution_count": 16,
   "metadata": {},
   "outputs": [],
   "source": [
    "discard = Int(max_attempts/5)\n",
    "n_samples = 1000\n",
    "xi_samples_gzz = extract_samples(outp.opf.xi_skeleton[:,discard+1:end], \n",
    "                             outp.opf.bt_skeleton[:,discard+1:end], \n",
    "    (outp.opf.bt_skeleton[end]-outp.opf.bt_skeleton[discard+1])/n_samples, \"linear\")[:,1:end-1];\n",
    "alpha_samples_gzz = extract_samples(outp.opf.alpha_skeleton[:,discard+1:end], \n",
    "                             outp.opf.bt_skeleton[:,discard+1:end], \n",
    "    (outp.opf.bt_skeleton[end]-outp.opf.bt_skeleton[discard+1])/n_samples, \"linear\")[:,1:end-1];"
   ]
  },
  {
   "cell_type": "code",
   "execution_count": 19,
   "metadata": {},
   "outputs": [
    {
     "data": {
      "text/plain": [
       "(20, 1000)"
      ]
     },
     "execution_count": 19,
     "metadata": {},
     "output_type": "execute_result"
    }
   ],
   "source": [
    "size(xi_samples_gzz)"
   ]
  },
  {
   "cell_type": "code",
   "execution_count": 27,
   "metadata": {
    "collapsed": true
   },
   "outputs": [],
   "source": [
    "maxlag = 100\n",
    "freq = 10\n",
    "store = Int64.(freq*(1:maxlag/freq))\n",
    "acf_xi = zeros(d, maxlag+1)\n",
    "acf_alpha = zeros(d, maxlag+1)\n",
    "for idx in 1:d \n",
    "    acf_xi[idx,:] = acf(xi_samples_gzz[:,idx], maxlag)\n",
    "    acf_alpha[idx,:] = acf(alpha_samples_gzz[:,idx], maxlag)\n",
    "end\n",
    "\n",
    "acfs_xi, acfs_alpha = [], []\n",
    "for lag in store \n",
    "    push!(acfs_xi, acf_xi[:,lag])\n",
    "    push!(acfs_alpha, acf_alpha[:,lag])\n",
    "end"
   ]
  },
  {
   "cell_type": "code",
   "execution_count": 28,
   "metadata": {},
   "outputs": [
    {
     "data": {
      "image/png": "[encoded data removed]",
      "text/plain": [
       "PyPlot.Figure(PyObject <Figure size 1200x250 with 2 Axes>)"
      ]
     },
     "metadata": {},
     "output_type": "display_data"
    }
   ],
   "source": [
    "fig = figure(\"pyplot_subplot_mixed\", figsize=(12,2.5))\n",
    "\n",
    "a, b = -0.1, 1.1\n",
    "subplot(121)\n",
    "boxplot(acfs_params, showfliers=false)\n",
    "grid(alpha=0.35)\n",
    "xlabel(\"Lag\", fontsize=10)\n",
    "ylabel(\"ACF\", fontsize=10)\n",
    "xticks(1:maxlag/freq, store)\n",
    "ylim([a,b])\n",
    "title(\"ACF's for parameters\", fontsize=11)\n",
    "\n",
    "subplot(122)\n",
    "boxplot(acfs_hyperparams, showfliers=false)\n",
    "grid(alpha=0.35)\n",
    "xlabel(\"Lag\", fontsize=10)\n",
    "ylabel(\"ACF\", fontsize=10)\n",
    "xticks(1:maxlag/freq, store)\n",
    "ylim([a,b])\n",
    "title(\"ACF's for hyperparameters\", fontsize=11);"
   ]
  },
  {
   "cell_type": "code",
   "execution_count": null,
   "metadata": {
    "collapsed": true
   },
   "outputs": [],
   "source": []
  },
  {
   "cell_type": "code",
   "execution_count": null,
   "metadata": {
    "collapsed": true
   },
   "outputs": [],
   "source": []
  },
  {
   "cell_type": "code",
   "execution_count": 4,
   "metadata": {},
   "outputs": [
    {
     "data": {
      "text/plain": [
       "11-element Array{Float64,1}:\n",
       " 1.0      \n",
       " 0.0048527\n",
       " 0.520924 \n",
       " 0.109045 \n",
       " 0.806018 \n",
       " 0.489487 \n",
       " 0.552632 \n",
       " 0.606271 \n",
       " 0.362609 \n",
       " 0.057827 \n",
       " 0.0325484"
      ]
     },
     "execution_count": 4,
     "metadata": {},
     "output_type": "execute_result"
    }
   ],
   "source": [
    "vcat(1,rand(10))"
   ]
  },
  {
   "cell_type": "code",
   "execution_count": null,
   "metadata": {
    "collapsed": true
   },
   "outputs": [],
   "source": []
  }
 ],
 "metadata": {
  "kernelspec": {
   "display_name": "Julia 0.6.4",
   "language": "julia",
   "name": "julia-0.6"
  },
  "language_info": {
   "file_extension": ".jl",
   "mimetype": "application/julia",
   "name": "julia",
   "version": "0.6.4"
  }
 },
 "nbformat": 4,
 "nbformat_minor": 2
}

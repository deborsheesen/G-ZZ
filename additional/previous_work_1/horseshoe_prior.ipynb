{
 "cells": [
  {
   "cell_type": "code",
   "execution_count": 1,
   "metadata": {},
   "outputs": [
    {
     "data": {
      "text/plain": [
       "GibbsHMC (generic function with 3 methods)"
      ]
     },
     "execution_count": 1,
     "metadata": {},
     "output_type": "execute_result"
    }
   ],
   "source": [
    "using Distributions, TimeIt, ProgressMeter, PyPlot\n",
    "include(\"/home/postdoc/dsen/Desktop/codes/G-ZZ/jl_files/zz_samplers.jl\")"
   ]
  },
  {
   "cell_type": "code",
   "execution_count": 2,
   "metadata": {},
   "outputs": [
    {
     "data": {
      "text/plain": [
       "run_sampler (generic function with 4 methods)"
      ]
     },
     "execution_count": 2,
     "metadata": {},
     "output_type": "execute_result"
    }
   ],
   "source": [
    "function run_sampler(my_model, lambda, max_attempts, mb_size, Print=false, prob_het=0.98, adapt_speed=\"none\") \n",
    "    \n",
    "    d, Nobs = size(my_model.ll.X)\n",
    "    \n",
    "    # Define minibatch sampler list:\n",
    "    gs = Array{mbsampler}(d)\n",
    "    gs[1] = umbsampler(0, Nobs, mb_size)\n",
    "\n",
    "    for i in 2:d\n",
    "        weights_het = abs.(my_model.ll.X[i,:])./sum(abs.(my_model.ll.X[i,:]))\n",
    "        if length(my_model.ll.X[i,:].nzind) < length(my_model.ll.X[i,:]) \n",
    "            gs[i] = spwumbsampler(Nobs, mb_size, weights_het, prob_het)\n",
    "        else \n",
    "            gs[i] = wumbsampler(Nobs, mb_size, weights_het)\n",
    "        end\n",
    "    end\n",
    "    gs_list = mbsampler_list(d,gs);\n",
    "    \n",
    "    A_xi = eye(d)\n",
    "    A_hyp = ones(1,hyperparam_size(my_model.pr))/hyperparam_size(my_model.pr)\n",
    "\n",
    "    opf = projopf(A_xi, A_hyp, 10^3)\n",
    "    opt = maxa_opt(max_attempts)\n",
    "    outp = outputscheduler(opf,opt)\n",
    "    bb = linear_bound(my_model.ll, my_model.pr, gs_list)\n",
    "    mstate = zz_state(d)\n",
    "    update_bound(bb, my_model.ll, my_model.pr, gs_list, mstate)\n",
    "    \n",
    "    # Define block Gibbs sampler:\n",
    "    L = 1\n",
    "    my_zz_sampler = zz_sampler(0, gs_list, bb, L, adapt_speed)\n",
    "    hyper_sampler = block_gibbs_sampler(lambda)\n",
    "    blocksampler = Array{msampler}(2)\n",
    "    blocksampler[1] = my_zz_sampler\n",
    "    blocksampler[2] = hyper_sampler\n",
    "    \n",
    "    # Run sampler:\n",
    "    ZZ_block_sample(my_model, outp, blocksampler, mstate, Print)\n",
    "    gc()\n",
    "    return outp\n",
    "end"
   ]
  },
  {
   "cell_type": "markdown",
   "metadata": {},
   "source": [
    "#### Simulate data:"
   ]
  },
  {
   "cell_type": "code",
   "execution_count": 3,
   "metadata": {},
   "outputs": [],
   "source": [
    "d, Nobs = 20, 50\n",
    "pX, pξ = 1e-1, 1e-1\n",
    "X = sprandn(d, Nobs, pX)\n",
    "X[1,:] = ones(Nobs)\n",
    "ξ_true = sprandn(d,pξ)\n",
    "ξ_true[1] = randn()\n",
    "y = Float64.([rand(Binomial(1, 1/(1+exp(-ξ_true'X[:,j]))), 1)[1] for j in 1:Nobs])\n",
    "mb_size = 5\n",
    "σ02 = 1;\n",
    "# prior = HS_prior(d, 10^4, rand(d), rand(), rand(d), rand())"
   ]
  },
  {
   "cell_type": "code",
   "execution_count": 4,
   "metadata": {
    "collapsed": true
   },
   "outputs": [],
   "source": [
    "my_pr = SS_prior(d, σ02)\n",
    "my_ll = ll_logistic_sp(X,y)\n",
    "my_model = model(my_ll, my_pr);"
   ]
  },
  {
   "cell_type": "markdown",
   "metadata": {},
   "source": [
    "### GZZ:"
   ]
  },
  {
   "cell_type": "code",
   "execution_count": 27,
   "metadata": {
    "collapsed": true
   },
   "outputs": [],
   "source": [
    "mb_size = 1\n",
    "max_attempts = 10^6\n",
    "lambda = 2e1\n",
    "Print = true;"
   ]
  },
  {
   "cell_type": "code",
   "execution_count": 28,
   "metadata": {},
   "outputs": [
    {
     "name": "stdout",
     "output_type": "stream",
     "text": [
      "10 percent attempts in 0.42 min; zz bounces = 11815, hyp bounces = 11685, total time of process = 581.071 \n",
      "20 percent attempts in 0.84 min; zz bounces = 24241, hyp bounces = 23318, total time of process = 1156.130 \n",
      "30 percent attempts in 1.27 min; zz bounces = 36419, hyp bounces = 34879, total time of process = 1732.822 \n",
      "40 percent attempts in 1.71 min; zz bounces = 48499, hyp bounces = 46499, total time of process = 2312.917 \n",
      "50 percent attempts in 2.15 min; zz bounces = 60715, hyp bounces = 58282, total time of process = 2888.919 \n",
      "60 percent attempts in 2.60 min; zz bounces = 73014, hyp bounces = 70137, total time of process = 3467.896 \n",
      "70 percent attempts in 3.05 min; zz bounces = 84863, hyp bounces = 81497, total time of process = 4044.640 \n",
      "80 percent attempts in 3.50 min; zz bounces = 96888, hyp bounces = 93213, total time of process = 4622.248 \n",
      "90 percent attempts in 3.94 min; zz bounces = 108812, hyp bounces = 104734, total time of process = 5198.926 \n",
      "100 percent attempts in 4.40 min; zz bounces = 120764, hyp bounces = 116294, total time of process = 5778.898 \n",
      "Sampling in 4.4 mins \n"
     ]
    }
   ],
   "source": [
    "start = time()\n",
    "outp = run_sampler(my_model, lambda, max_attempts, mb_size, Print) \n",
    "print(\"Sampling in \", round((time()-start)/60,1), \" mins \\n\")"
   ]
  },
  {
   "cell_type": "code",
   "execution_count": 40,
   "metadata": {},
   "outputs": [],
   "source": [
    "discard = Int(max_attempts/5)\n",
    "n_samples = 10000\n",
    "xi_samples_gzz = extract_samples(outp.opf.xi_skeleton[:,discard+1:end], \n",
    "                             outp.opf.bt_skeleton[:,discard+1:end], \n",
    "    (outp.opf.bt_skeleton[end]-outp.opf.bt_skeleton[discard+1])/n_samples, \"linear\")[:,1:end-1];\n",
    "alpha_samples_gzz = extract_samples(outp.opf.alpha_skeleton[:,discard+1:end], \n",
    "                             outp.opf.bt_skeleton[:,discard+1:end], \n",
    "    (outp.opf.bt_skeleton[end]-outp.opf.bt_skeleton[discard+1])/n_samples, \"linear\")[:,1:end-1];"
   ]
  },
  {
   "cell_type": "code",
   "execution_count": 41,
   "metadata": {},
   "outputs": [
    {
     "data": {
      "text/plain": [
       "(20, 10000)"
      ]
     },
     "execution_count": 41,
     "metadata": {},
     "output_type": "execute_result"
    }
   ],
   "source": [
    "size(xi_samples_gzz)"
   ]
  },
  {
   "cell_type": "code",
   "execution_count": 42,
   "metadata": {
    "collapsed": true
   },
   "outputs": [],
   "source": [
    "maxlag = 100\n",
    "acf_xi = zeros(d, maxlag+1)\n",
    "acf_alpha = zeros(d, maxlag+1)\n",
    "for idx in 1:d \n",
    "    acf_xi[idx,:] = acf(xi_samples_gzz[idx,:], maxlag)\n",
    "    acf_alpha[idx,:] = acf(alpha_samples_gzz[idx,:], maxlag)\n",
    "end\n",
    "\n",
    "freq = 10\n",
    "store = Int64.(freq*(1:maxlag/freq))\n",
    "acfs_xi = [] \n",
    "acfs_alpha = []\n",
    "for lag in store \n",
    "    push!(acfs_xi, acf_xi[:,lag])\n",
    "    push!(acfs_alpha, acf_alpha[:,lag])\n",
    "end"
   ]
  },
  {
   "cell_type": "code",
   "execution_count": 43,
   "metadata": {},
   "outputs": [
    {
     "data": {
      "image/png": "[encoded data removed]",
      "text/plain": [
       "PyPlot.Figure(PyObject <Figure size 1200x250 with 2 Axes>)"
      ]
     },
     "metadata": {},
     "output_type": "display_data"
    }
   ],
   "source": [
    "fig = figure(\"pyplot_subplot_mixed\", figsize=(12,2.5))\n",
    "\n",
    "a, b = -0.1, 1.1\n",
    "subplot(121)\n",
    "boxplot(acfs_xi, showfliers=false)\n",
    "grid(alpha=0.35)\n",
    "xlabel(\"Lag\", fontsize=10)\n",
    "ylabel(\"ACF\", fontsize=10)\n",
    "xticks(1:maxlag/freq, store)\n",
    "ylim([a,b])\n",
    "title(\"ACF's for parameters\", fontsize=11)\n",
    "\n",
    "subplot(122)\n",
    "boxplot(acfs_alpha, showfliers=false)\n",
    "grid(alpha=0.35)\n",
    "xlabel(\"Lag\", fontsize=10)\n",
    "ylabel(\"ACF\", fontsize=10)\n",
    "xticks(1:maxlag/freq, store)\n",
    "ylim([a,b])\n",
    "title(\"ACF's for hyperparameters\", fontsize=11);"
   ]
  },
  {
   "cell_type": "code",
   "execution_count": 45,
   "metadata": {},
   "outputs": [
    {
     "data": {
      "text/plain": [
       "(20, 10000)"
      ]
     },
     "execution_count": 45,
     "metadata": {},
     "output_type": "execute_result"
    }
   ],
   "source": [
    "size(alpha_samples_gzz)"
   ]
  },
  {
   "cell_type": "code",
   "execution_count": 48,
   "metadata": {},
   "outputs": [
    {
     "data": {
      "image/png": "[encoded data removed]",
      "text/plain": [
       "PyPlot.Figure(PyObject <Figure size 640x480 with 1 Axes>)"
      ]
     },
     "metadata": {},
     "output_type": "display_data"
    }
   ],
   "source": [
    "plot(alpha_samples_gzz[10,:]);"
   ]
  },
  {
   "cell_type": "code",
   "execution_count": null,
   "metadata": {
    "collapsed": true
   },
   "outputs": [],
   "source": []
  }
 ],
 "metadata": {
  "kernelspec": {
   "display_name": "Julia 0.6.4",
   "language": "julia",
   "name": "julia-0.6"
  },
  "language_info": {
   "file_extension": ".jl",
   "mimetype": "application/julia",
   "name": "julia",
   "version": "0.6.4"
  }
 },
 "nbformat": 4,
 "nbformat_minor": 2
}

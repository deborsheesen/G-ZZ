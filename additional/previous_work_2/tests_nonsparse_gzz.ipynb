{
 "cells": [
  {
   "cell_type": "markdown",
   "metadata": {},
   "source": [
    "#### Testing out Gibbs zig-zag code:"
   ]
  },
  {
   "cell_type": "code",
   "execution_count": 1,
   "metadata": {
    "collapsed": true
   },
   "outputs": [],
   "source": [
    "using Distributions, TimeIt, ProgressMeter, PyPlot"
   ]
  },
  {
   "cell_type": "code",
   "execution_count": 2,
   "metadata": {},
   "outputs": [
    {
     "data": {
      "text/plain": [
       "get_clustering (generic function with 1 method)"
      ]
     },
     "execution_count": 2,
     "metadata": {},
     "output_type": "execute_result"
    }
   ],
   "source": [
    "include(\"zz_structures.jl\")\n",
    "include(\"mbsampler.jl\")"
   ]
  },
  {
   "cell_type": "markdown",
   "metadata": {},
   "source": [
    "#### Simulate some data:"
   ]
  },
  {
   "cell_type": "code",
   "execution_count": 3,
   "metadata": {},
   "outputs": [
    {
     "data": {
      "text/plain": [
       "1"
      ]
     },
     "execution_count": 3,
     "metadata": {},
     "output_type": "execute_result"
    }
   ],
   "source": [
    "d, Nobs = 10, 50\n",
    "pX = 1e-1\n",
    "pξ = 5e-1\n",
    "X = rand(Normal(), d, Nobs) .* rand(Binomial(1,pX), d, Nobs)\n",
    "X[1,:] = ones(Nobs)\n",
    "ξ_true = 3*rand(Normal(),d).* rand(Binomial(1,pξ), d)\n",
    "ξ_true[1] = rand(Normal())\n",
    "y = [rand(Binomial(1, 1/(1+exp(-ξ_true'X[:,j]))), 1)[1] + 0. for j in 1:Nobs];\n",
    "mb_size = copy(d)\n",
    "σ02 = 1"
   ]
  },
  {
   "cell_type": "markdown",
   "metadata": {},
   "source": [
    "#### Define prior:"
   ]
  },
  {
   "cell_type": "code",
   "execution_count": 15,
   "metadata": {},
   "outputs": [
    {
     "data": {
      "text/plain": [
       "HS_prior(10, 1.0, [1.0, 1.0, 1.0, 1.0, 1.0, 1.0, 1.0, 1.0, 1.0], 1.0, [1.0, 1.0, 1.0, 1.0, 1.0, 1.0, 1.0, 1.0, 1.0], 1.0)"
      ]
     },
     "execution_count": 15,
     "metadata": {},
     "output_type": "execute_result"
    }
   ],
   "source": [
    "prior = HS_prior(d, σ02) \n",
    "# prior = GDP_prior(d, σ02)\n",
    "# prior = gaussian_prior_nh(zeros(d), 10*rand(d))"
   ]
  },
  {
   "cell_type": "code",
   "execution_count": 16,
   "metadata": {},
   "outputs": [
    {
     "name": "stdout",
     "output_type": "stream",
     "text": [
      "[-1.9099, -0.0, -0.0, -4.35491, -0.0, -4.34406, 2.43739, -0.0, 0.0, 0.0]"
     ]
    }
   ],
   "source": [
    "print(ξ_true)"
   ]
  },
  {
   "cell_type": "markdown",
   "metadata": {},
   "source": [
    "#### Define model:"
   ]
  },
  {
   "cell_type": "code",
   "execution_count": 17,
   "metadata": {
    "collapsed": true
   },
   "outputs": [],
   "source": [
    "my_ll = ll_logistic(X,y);\n",
    "my_model = model(my_ll, prior)\n",
    "root = find_root(my_model, rand(d));"
   ]
  },
  {
   "cell_type": "markdown",
   "metadata": {},
   "source": [
    "#### Define minibatch sampler:"
   ]
  },
  {
   "cell_type": "code",
   "execution_count": 18,
   "metadata": {
    "collapsed": true
   },
   "outputs": [],
   "source": [
    "# Sub-Sampling without control variate and with weights\n",
    "ϵ = 1e-2\n",
    "weights = abs.(X) + ϵ\n",
    "weights ./= sum(weights,2)\n",
    "gs = [wumbsampler(Nobs, mb_size, weights[i,:]) for i in 1:d]\n",
    "gs_list = mbsampler_list(d,gs);"
   ]
  },
  {
   "cell_type": "raw",
   "metadata": {
    "collapsed": true
   },
   "source": [
    "# Sub-Sampling with control variate and with weights\n",
    "ϵ = 1e-2\n",
    "weights_cv = zeros(d, Nobs)\n",
    "for n in 1:Nobs\n",
    "    weights_cv[:,n] = [abs.(X[i,n])*norm(X[:,n]) for i in 1:d] + ϵ\n",
    "end\n",
    "weights_cv ./= sum(weights_cv,2);\n",
    "gs = [wumbsampler(Nobs, mb_size, weights_cv[i,:]) for i in 1:d];\n",
    "gs_list = cvmbsampler_list(my_model, gs, root);"
   ]
  },
  {
   "cell_type": "markdown",
   "metadata": {},
   "source": [
    "#### Define output formatter:"
   ]
  },
  {
   "cell_type": "code",
   "execution_count": 19,
   "metadata": {
    "collapsed": true
   },
   "outputs": [],
   "source": [
    "A = eye(d)\n",
    "\n",
    "opf = projopf(A, 1000, hyperparam_size(prior))\n",
    "opt = maxa_opt(10^6)\n",
    "outp = outputscheduler(opf,opt)\n",
    "bb = linear_bound(my_model.ll, my_model.pr, gs_list)\n",
    "update_bound(bb, my_ll, prior, gs_list, zz_state(opf));"
   ]
  },
  {
   "cell_type": "code",
   "execution_count": 20,
   "metadata": {},
   "outputs": [
    {
     "name": "stdout",
     "output_type": "stream",
     "text": [
      "Initial speed = [1.0, 1.0, 1.0, 1.0, 1.0, 1.0, 1.0, 1.0, 1.0, 1.0]"
     ]
    }
   ],
   "source": [
    "print(\"Initial speed = \", opf.alpha_skeleton[:,opf.tcounter+1])"
   ]
  },
  {
   "cell_type": "markdown",
   "metadata": {},
   "source": [
    "#### Define minibatch sampler + block Gibbs sampler list:"
   ]
  },
  {
   "cell_type": "code",
   "execution_count": 21,
   "metadata": {
    "collapsed": true
   },
   "outputs": [],
   "source": [
    "adapt_speed = false\n",
    "L = 2\n",
    "my_zz_sampler = zz_sampler(0, gs_list, bb, L, adapt_speed)\n",
    "hyper_sampler = block_gibbs_sampler(1.)\n",
    "blocksampler = Array{msampler}(2)\n",
    "blocksampler[1] = my_zz_sampler\n",
    "blocksampler[2] = hyper_sampler;"
   ]
  },
  {
   "cell_type": "markdown",
   "metadata": {},
   "source": [
    "#### Run sampler:"
   ]
  },
  {
   "cell_type": "code",
   "execution_count": 22,
   "metadata": {
    "scrolled": true
   },
   "outputs": [
    {
     "name": "stdout",
     "output_type": "stream",
     "text": [
      "10% attempts in 0.27 mins \n",
      "20% attempts in 0.53 mins \n",
      "30% attempts in 0.81 mins \n",
      "40% attempts in 1.08 mins \n",
      "50% attempts in 1.35 mins \n",
      "60% attempts in 1.62 mins \n",
      "70% attempts in 1.92 mins \n",
      "80% attempts in 2.22 mins \n",
      "90% attempts in 2.52 mins \n",
      "100% attempts in 2.83 mins \n",
      "2.83 mins"
     ]
    }
   ],
   "source": [
    "start = time()\n",
    "ZZ_block_sample(my_model::model, outp::outputscheduler, blocksampler::Array{msampler})\n",
    "print( round((time()-start)/60, 2), \" mins\")"
   ]
  },
  {
   "cell_type": "code",
   "execution_count": 23,
   "metadata": {},
   "outputs": [
    {
     "name": "stdout",
     "output_type": "stream",
     "text": [
      "(10, 281737) (10, 281737)"
     ]
    }
   ],
   "source": [
    "print(size(outp.opf.alpha_skeleton), \" \", size(outp.opf.xi_skeleton))"
   ]
  },
  {
   "cell_type": "markdown",
   "metadata": {},
   "source": [
    "* Plot speeds:"
   ]
  },
  {
   "cell_type": "raw",
   "metadata": {},
   "source": [
    "fig = figure(\"pyplot_barplot\",figsize=(7,2.5))\n",
    "for i in 1:d \n",
    "    plot((outp.opf.alpha_skeleton[i,:]))\n",
    "end\n",
    "title(\"Speeds\")\n",
    "xlabel(\"bounce\")\n",
    "# ylim(0,4000)\n",
    "grid(true)"
   ]
  },
  {
   "cell_type": "markdown",
   "metadata": {},
   "source": [
    "#### Extract samples:"
   ]
  },
  {
   "cell_type": "code",
   "execution_count": 24,
   "metadata": {
    "collapsed": true
   },
   "outputs": [],
   "source": [
    "discard = 0\n",
    "n_samples = 10^4\n",
    "xi_samples = extract_samples(outp.opf.xi_skeleton[:,discard+1:end], \n",
    "                             outp.opf.bt_skeleton[:,discard+1:end], \n",
    "                             outp.opf.bt_skeleton[end]/n_samples,\n",
    "                             \"linear\");\n",
    "hyper_samples = extract_samples(outp.opf.hyper_skeleton[:,discard+1:end], \n",
    "                                outp.opf.bt_skeleton[:,discard+1:end], \n",
    "                                outp.opf.bt_skeleton[end]/n_samples, \n",
    "                                \"constant\");"
   ]
  },
  {
   "cell_type": "markdown",
   "metadata": {},
   "source": [
    "#### Check configuration temperatures:"
   ]
  },
  {
   "cell_type": "code",
   "execution_count": 25,
   "metadata": {},
   "outputs": [
    {
     "data": {
      "image/png": "[encoded data removed]",
      "text/plain": [
       "PyPlot.Figure(PyObject <Figure size 700x250 with 1 Axes>)"
      ]
     },
     "metadata": {},
     "output_type": "display_data"
    }
   ],
   "source": [
    "fig = figure(\"pyplot_barplot\",figsize=(7,2.5))\n",
    "plot(1:d, [compute_configT(my_model, xi_samples[:,1:end-1], hyper_samples[:,1:end-1], k) for k in 1:d], \"o\")\n",
    "grid(true)"
   ]
  },
  {
   "cell_type": "markdown",
   "metadata": {},
   "source": [
    "#### For GDP prior: \n",
    "\n",
    "* That doesn't look right. Something seems wrong with the sampler."
   ]
  },
  {
   "cell_type": "code",
   "execution_count": null,
   "metadata": {
    "collapsed": true
   },
   "outputs": [],
   "source": []
  }
 ],
 "metadata": {
  "kernelspec": {
   "display_name": "Julia 0.6.4",
   "language": "julia",
   "name": "julia-0.6"
  },
  "language_info": {
   "file_extension": ".jl",
   "mimetype": "application/julia",
   "name": "julia",
   "version": "0.6.4"
  }
 },
 "nbformat": 4,
 "nbformat_minor": 2
}

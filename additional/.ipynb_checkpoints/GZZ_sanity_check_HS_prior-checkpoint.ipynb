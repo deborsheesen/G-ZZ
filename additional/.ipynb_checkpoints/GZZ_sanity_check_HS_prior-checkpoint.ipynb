{
 "cells": [
  {
   "cell_type": "markdown",
   "metadata": {},
   "source": [
    "### Sanity check\n",
    "\n",
    "* Horseshoe prior."
   ]
  },
  {
   "cell_type": "code",
   "execution_count": 1,
   "metadata": {},
   "outputs": [
    {
     "data": {
      "text/plain": [
       "GibbsHMC (generic function with 3 methods)"
      ]
     },
     "execution_count": 1,
     "metadata": {},
     "output_type": "execute_result"
    }
   ],
   "source": [
    "using Distributions, TimeIt, ProgressMeter, PyPlot\n",
    "include(\"/home/postdoc/dsen/Desktop/codes/G-ZZ_clean/jl_files/zz_samplers.jl\")"
   ]
  },
  {
   "cell_type": "code",
   "execution_count": 2,
   "metadata": {
    "collapsed": true
   },
   "outputs": [],
   "source": [
    "d, Nobs = 20, 50\n",
    "pX, pξ = 1e-1, 1e-1\n",
    "X = sprandn(d, Nobs, pX)\n",
    "X[1,:] = ones(Nobs)\n",
    "ξ_true = sprandn(d,pξ)\n",
    "ξ_true[1] = randn()\n",
    "y = Float64.([rand(Binomial(1, 1/(1+exp(-ξ_true'X[:,j]))), 1)[1] for j in 1:Nobs])\n",
    "mb_size = 5\n",
    "σ02 = 1\n",
    "\n",
    "prior = HS_prior(d, σ02);"
   ]
  },
  {
   "cell_type": "code",
   "execution_count": 3,
   "metadata": {
    "collapsed": true
   },
   "outputs": [],
   "source": [
    "my_ll = ll_logistic_sp(X,y);\n",
    "my_model = model(my_ll, prior);"
   ]
  },
  {
   "cell_type": "code",
   "execution_count": 4,
   "metadata": {},
   "outputs": [
    {
     "name": "stderr",
     "output_type": "stream",
     "text": [
      "\u001b[32mProgress: 100%|█████████████████████████████████████████| Time: 0:00:01\u001b[39m\n"
     ]
    }
   ],
   "source": [
    "# Sub-sampling with weights and no CV\n",
    "\n",
    "prob_het = 0.98\n",
    "gs = Array{mbsampler}(d)\n",
    "gs[1] = umbsampler(0, Nobs, mb_size)\n",
    "\n",
    "@showprogress for i in 2:d\n",
    "    weights_het = abs.(X[i,:])./sum(abs.(X[i,:]))\n",
    "    gs[i] = spwumbsampler(Nobs, mb_size, weights_het, prob_het)\n",
    "end\n",
    "gs_list = mbsampler_list(d,gs);"
   ]
  },
  {
   "cell_type": "code",
   "execution_count": 7,
   "metadata": {},
   "outputs": [],
   "source": [
    "A_xi = eye(d)\n",
    "A_hyp = eye(hyperparam_size(prior))\n",
    "\n",
    "opf = projopf(A_xi, A_hyp, 1000)\n",
    "opt = maxa_opt(10^6, 2*10^5)\n",
    "outp = outputscheduler(opf,opt)\n",
    "\n",
    "bb = linear_bound(my_model.ll, my_model.pr, gs_list)\n",
    "mstate = zz_state(d)\n",
    "update_bound(bb, my_ll, prior, gs_list, mstate);"
   ]
  },
  {
   "cell_type": "code",
   "execution_count": 8,
   "metadata": {},
   "outputs": [],
   "source": []
  },
  {
   "cell_type": "code",
   "execution_count": 9,
   "metadata": {},
   "outputs": [],
   "source": [
    "adapt_speed = \"by_var\"\n",
    "L = 1\n",
    "my_zz_sampler = zz_sampler(0, gs_list, bb, L, adapt_speed)\n",
    "hyper_sampler = block_gibbs_sampler(1e-1)\n",
    "blocksampler = Array{msampler}(2)\n",
    "blocksampler[1] = my_zz_sampler\n",
    "blocksampler[2] = hyper_sampler;"
   ]
  },
  {
   "cell_type": "code",
   "execution_count": null,
   "metadata": {
    "scrolled": false
   },
   "outputs": [
    {
     "name": "stdout",
     "output_type": "stream",
     "text": [
      "10 percent attempts in 0.30 min; zz bounces = 19877, hyp bounces = 78, total time of process = 722.046 \n",
      "20 percent attempts in 0.59 min; zz bounces = 44440, hyp bounces = 142, total time of process = 1395.801 \n",
      "Trimmed after 200000 bouncing attempts \n"
     ]
    }
   ],
   "source": [
    "start = time()\n",
    "ZZ_block_sample(my_model, outp, blocksampler, mstate)\n",
    "print(\"Total time: \", round((time()-start)/60, 2), \" mins\")"
   ]
  },
  {
   "cell_type": "code",
   "execution_count": 9,
   "metadata": {},
   "outputs": [
    {
     "data": {
      "image/png": "[encoded data removed]",
      "text/plain": [
       "PyPlot.Figure(PyObject <Figure size 800x300 with 1 Axes>)"
      ]
     },
     "metadata": {},
     "output_type": "display_data"
    }
   ],
   "source": [
    "fig = figure(\"pyplot_barplot\",figsize=(8,3))\n",
    "for i in 1:d \n",
    "    plot((outp.opf.alpha_skeleton[i,:]))\n",
    "end\n",
    "title(\"Speeds\")\n",
    "xlabel(\"bounce\")\n",
    "grid(true)"
   ]
  },
  {
   "cell_type": "code",
   "execution_count": 10,
   "metadata": {},
   "outputs": [
    {
     "ename": "LoadError",
     "evalue": "\u001b[91mInexactError()\u001b[39m",
     "output_type": "error",
     "traceback": [
      "\u001b[91mInexactError()\u001b[39m",
      "",
      "Stacktrace:",
      " [1] \u001b[1mconvert\u001b[22m\u001b[22m\u001b[1m(\u001b[22m\u001b[22m::Type{Int64}, ::Float64\u001b[1m)\u001b[22m\u001b[22m at \u001b[1m./float.jl:679\u001b[22m\u001b[22m",
      " [2] \u001b[1mextract_samples\u001b[22m\u001b[22m\u001b[1m(\u001b[22m\u001b[22m::Array{Float64,2}, ::Array{Float64,2}, ::Float64, ::String\u001b[1m)\u001b[22m\u001b[22m at \u001b[1m/home/postdoc/dsen/Desktop/codes/G-ZZ_clean/jl_files/zz_samplers.jl:389\u001b[22m\u001b[22m",
      " [3] \u001b[1minclude_string\u001b[22m\u001b[22m\u001b[1m(\u001b[22m\u001b[22m::String, ::String\u001b[1m)\u001b[22m\u001b[22m at \u001b[1m./loading.jl:522\u001b[22m\u001b[22m"
     ]
    }
   ],
   "source": [
    "discard = 0\n",
    "n_samples = 10^4\n",
    "xi_samples = extract_samples(outp.opf.xi_skeleton[:,discard+1:end], \n",
    "                             outp.opf.bt_skeleton[:,discard+1:end], \n",
    "                             outp.opf.bt_skeleton[end]/n_samples,\n",
    "                             \"linear\");\n",
    "hyper_samples = extract_samples(outp.opf.hyper_skeleton[:,discard+1:end], \n",
    "                                outp.opf.bt_skeleton[:,discard+1:end], \n",
    "                                outp.opf.bt_skeleton[end]/n_samples, \n",
    "                                \"constant\");"
   ]
  },
  {
   "cell_type": "markdown",
   "metadata": {},
   "source": [
    "* Configuration temperature should be around 1."
   ]
  },
  {
   "cell_type": "code",
   "execution_count": 11,
   "metadata": {},
   "outputs": [
    {
     "ename": "LoadError",
     "evalue": "\u001b[91mUndefVarError: xi_samples not defined\u001b[39m",
     "output_type": "error",
     "traceback": [
      "\u001b[91mUndefVarError: xi_samples not defined\u001b[39m",
      "",
      "Stacktrace:",
      " [1] \u001b[1mcollect\u001b[22m\u001b[22m\u001b[1m(\u001b[22m\u001b[22m::Base.Generator{UnitRange{Int64},##293#294}\u001b[1m)\u001b[22m\u001b[22m at \u001b[1m./array.jl:470\u001b[22m\u001b[22m",
      " [2] \u001b[1minclude_string\u001b[22m\u001b[22m\u001b[1m(\u001b[22m\u001b[22m::String, ::String\u001b[1m)\u001b[22m\u001b[22m at \u001b[1m./loading.jl:522\u001b[22m\u001b[22m"
     ]
    }
   ],
   "source": [
    "fig = figure(\"pyplot_barplot\",figsize=(7,2.5))\n",
    "plot([compute_configT(my_model, xi_samples[:,1:end-1], hyper_samples[:,1:end-1], k) for k in 1:d], \"o\")\n",
    "grid(true)"
   ]
  },
  {
   "cell_type": "code",
   "execution_count": null,
   "metadata": {
    "collapsed": true
   },
   "outputs": [],
   "source": []
  }
 ],
 "metadata": {
  "kernelspec": {
   "display_name": "Julia 0.6.4",
   "language": "julia",
   "name": "julia-0.6"
  },
  "language_info": {
   "file_extension": ".jl",
   "mimetype": "application/julia",
   "name": "julia",
   "version": "0.6.4"
  }
 },
 "nbformat": 4,
 "nbformat_minor": 2
}

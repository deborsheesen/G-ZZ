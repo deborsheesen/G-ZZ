{
 "cells": [
  {
   "cell_type": "code",
   "execution_count": 1,
   "metadata": {},
   "outputs": [
    {
     "data": {
      "text/plain": [
       "run_sampler (generic function with 4 methods)"
      ]
     },
     "execution_count": 1,
     "metadata": {},
     "output_type": "execute_result"
    }
   ],
   "source": [
    "using Distributions, TimeIt, ProgressMeter, PyPlot, JLD\n",
    "include(\"/home/postdoc/dsen/Desktop/G-ZZ/shrinkage_prior/synthetic_data/temp.jl\")"
   ]
  },
  {
   "cell_type": "raw",
   "metadata": {},
   "source": [
    "d, Nobs = 21, 40\n",
    "pX = 5e-1\n",
    "pξ = 1.5e-1\n",
    "X = sprandn(d, Nobs, pX)\n",
    "X[1,:] = 1\n",
    "ξ_true = sprandn(d, pξ)\n",
    "ξ_true[1] = randn()\n",
    "y = Float64.([rand(Binomial(1, 1/(1+exp(-ξ_true'X[:,j])))) for j in 1:Nobs])\n",
    "save(\"data_simple.jld\", \"X\", X, \"y\", y, \"xi_true\", ξ_true)"
   ]
  },
  {
   "cell_type": "code",
   "execution_count": 2,
   "metadata": {},
   "outputs": [],
   "source": [
    "X, y = load(\"data_simple.jld\", \"X\", \"y\")\n",
    "d, Nobs = size(X)\n",
    "σ02 = 1\n",
    "my_pr = SS_prior(d, σ02)\n",
    "my_ll = ll_logistic_sp(X,y)\n",
    "my_model = model(my_ll, my_pr);"
   ]
  },
  {
   "cell_type": "code",
   "execution_count": null,
   "metadata": {},
   "outputs": [],
   "source": [
    "# Sub-sampling without control variates and with weights:\n",
    "mb_size = 10\n",
    "max_attempts = 5*10^7\n",
    "lambda_list = Float32.(logspace(-2,1.6,15))\n",
    "Print = false"
   ]
  },
  {
   "cell_type": "code",
   "execution_count": null,
   "metadata": {},
   "outputs": [],
   "source": [
    "start_overall = time()\n",
    "for (k,lambda) in enumerate(lambda_list[4:6]) \n",
    "    start = time()\n",
    "    run_sampler(my_model, lambda, max_attempts, mb_size, Print) \n",
    "    print(k, \". Sampling for lambda = \", round(lambda,3), \" in \", round((time()-start)/60,1), \" mins \\n\")\n",
    "end\n",
    "print(\"Overall in \", round((time()-start_overall)/60,1), \" mins\")"
   ]
  },
  {
   "cell_type": "code",
   "execution_count": null,
   "metadata": {
    "collapsed": true
   },
   "outputs": [],
   "source": []
  },
  {
   "cell_type": "code",
   "execution_count": null,
   "metadata": {
    "collapsed": true
   },
   "outputs": [],
   "source": [
    "fig = figure(\"pyplot_barplot\",figsize=(12,4))\n",
    "maxlags = fill(1000,10)\n",
    "h_list = fill(1e-1,10)\n",
    "discard = 0\n",
    "iacts = zeros(10)\n",
    "for j in 1:2 \n",
    "    for i in 1:5\n",
    "        k = (j-1)*5+i\n",
    "        lambda = lambda_list[k]\n",
    "        filename  = \"/xtmp/GZZ_data/shrinkage_prior/synthetic_data/lambda:\"*\n",
    "        string(lambda)*\"-d:\"*string(d)*\"-Nobs:\"*\n",
    "        string(Nobs)*\"-mb_size:\"*string(mb_size)*\".jld\"\n",
    "        \n",
    "        xt_skel, bt_skel = load(filename, \"xt_skeleton\", \"bt_skeleton\")\n",
    "        h = h_list[k]\n",
    "        xi_samples = extract_samples(xt_skel[:,discard+1:end], \n",
    "                                     bt_skel[:,discard+1:end], \n",
    "                                     h,\"linear\")[:,1:end-1];\n",
    "        subplot(2,5,k)\n",
    "        maxlag = maxlags[k]\n",
    "        for dim in 1:size(xi_samples,1)\n",
    "            plot(h*(0:maxlag), acf(xi_samples[dim,:],maxlag))\n",
    "            title(\"lambda = \"*string(round(lambda,3)), fontsize=10)\n",
    "            grid(true)\n",
    "        end\n",
    "        iacts[k] = maximum([sum(acf(xi_samples[dim,:],maxlag)) for dim in 1:size(xi_samples,1)])\n",
    "        print(k, \". lambda = \"*string(round(lambda,2)), \" slowest mixing = \", \n",
    "                round(h*iacts[k],1), \"\\n\")\n",
    "        xt_skel, bt_skel, xi_samples = [], [], []\n",
    "        gc()\n",
    "    end\n",
    "end\n",
    "subplots_adjust(hspace=0.4)"
   ]
  },
  {
   "cell_type": "code",
   "execution_count": null,
   "metadata": {
    "collapsed": true
   },
   "outputs": [],
   "source": [
    "for j in 1:2 \n",
    "    for i in 1:5\n",
    "        k = (j-1)*5+i\n",
    "        lambda = lambda_list[k]\n",
    "        filename  = \"/xtmp/GZZ_data/shrinkage_prior/synthetic_data/lambda:\"*\n",
    "        string(lambda)*\"-d:\"*string(d)*\"-Nobs:\"*\n",
    "        string(Nobs)*\"-mb_size:\"*string(mb_size)*\".jld\"\n",
    "        \n",
    "        bt_skel = load(filename, \"bt_skeleton\")\n",
    "        print(round(bt_skel[1,end],1), \"\\n\")\n",
    "    end\n",
    "end"
   ]
  },
  {
   "cell_type": "code",
   "execution_count": null,
   "metadata": {
    "collapsed": true
   },
   "outputs": [],
   "source": []
  }
 ],
 "metadata": {
  "kernelspec": {
   "display_name": "Julia 0.6.4",
   "language": "julia",
   "name": "julia-0.6"
  },
  "language_info": {
   "file_extension": ".jl",
   "mimetype": "application/julia",
   "name": "julia",
   "version": "0.6.4"
  }
 },
 "nbformat": 4,
 "nbformat_minor": 2
}

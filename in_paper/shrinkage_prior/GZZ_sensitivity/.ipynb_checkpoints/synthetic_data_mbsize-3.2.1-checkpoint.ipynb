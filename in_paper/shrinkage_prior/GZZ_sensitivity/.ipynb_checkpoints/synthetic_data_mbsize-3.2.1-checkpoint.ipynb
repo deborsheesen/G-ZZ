{
 "cells": [
  {
   "cell_type": "code",
   "execution_count": 1,
   "metadata": {},
   "outputs": [
    {
     "data": {
      "text/plain": [
       "run_sampler (generic function with 4 methods)"
      ]
     },
     "execution_count": 1,
     "metadata": {},
     "output_type": "execute_result"
    }
   ],
   "source": [
    "using Distributions, TimeIt, ProgressMeter, PyPlot, JLD\n",
    "include(\"/home/postdoc/dsen/Desktop/G-ZZ/shrinkage_prior/synthetic_data/temp.jl\")"
   ]
  },
  {
   "cell_type": "code",
   "execution_count": 2,
   "metadata": {
    "collapsed": true
   },
   "outputs": [],
   "source": [
    "X, y = load(\"data_simple.jld\", \"X\", \"y\")\n",
    "d, Nobs = size(X)\n",
    "σ02 = 1\n",
    "my_pr = SS_prior(d, σ02)\n",
    "my_ll = ll_logistic_sp(X,y)\n",
    "my_model = model(my_ll, my_pr);"
   ]
  },
  {
   "cell_type": "code",
   "execution_count": 3,
   "metadata": {
    "collapsed": true
   },
   "outputs": [],
   "source": [
    "lambda = 12.182\n",
    "mb_size_list = [4]\n",
    "max_attempts = 5*10^7\n",
    "Print = false;"
   ]
  },
  {
   "cell_type": "code",
   "execution_count": null,
   "metadata": {},
   "outputs": [],
   "source": [
    "start_overall = time()\n",
    "for mb_size in mb_size_list \n",
    "    start = time()\n",
    "    run_sampler(my_model, lambda, max_attempts, mb_size, Print) \n",
    "    print(\"Sampling for mb size = \", mb_size, \" in \", round((time()-start)/60,1), \" mins \\n\")\n",
    "end\n",
    "print(\"Overall in \", round((time()-start_overall)/60,1), \" mins\")"
   ]
  },
  {
   "cell_type": "code",
   "execution_count": null,
   "metadata": {
    "collapsed": true
   },
   "outputs": [],
   "source": []
  },
  {
   "cell_type": "code",
   "execution_count": null,
   "metadata": {
    "collapsed": true
   },
   "outputs": [],
   "source": []
  },
  {
   "cell_type": "code",
   "execution_count": null,
   "metadata": {
    "collapsed": true
   },
   "outputs": [],
   "source": []
  }
 ],
 "metadata": {
  "kernelspec": {
   "display_name": "Julia 0.6.4",
   "language": "julia",
   "name": "julia-0.6"
  },
  "language_info": {
   "file_extension": ".jl",
   "mimetype": "application/julia",
   "name": "julia",
   "version": "0.6.4"
  }
 },
 "nbformat": 4,
 "nbformat_minor": 2
}

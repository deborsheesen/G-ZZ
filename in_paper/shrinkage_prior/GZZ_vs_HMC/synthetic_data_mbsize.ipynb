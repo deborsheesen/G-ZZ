{
 "cells": [
  {
   "cell_type": "code",
   "execution_count": 1,
   "metadata": {},
   "outputs": [
    {
     "data": {
      "text/plain": [
       "run_sampler (generic function with 4 methods)"
      ]
     },
     "execution_count": 1,
     "metadata": {},
     "output_type": "execute_result"
    }
   ],
   "source": [
    "using Distributions, TimeIt, ProgressMeter, PyPlot, JLD\n",
    "include(\"temp.jl\")"
   ]
  },
  {
   "cell_type": "code",
   "execution_count": 5,
   "metadata": {
    "collapsed": true
   },
   "outputs": [],
   "source": [
    "X, y = load(\"shrinkage_data_2.2.jld\", \"X\", \"y\")\n",
    "d, Nobs = size(X)\n",
    "σ02 = 1\n",
    "my_pr = SS_prior(d, σ02)\n",
    "my_ll = ll_logistic_sp(X,y)\n",
    "my_model = model(my_ll, my_pr);"
   ]
  },
  {
   "cell_type": "code",
   "execution_count": 13,
   "metadata": {},
   "outputs": [
    {
     "data": {
      "text/plain": [
       "false"
      ]
     },
     "execution_count": 13,
     "metadata": {},
     "output_type": "execute_result"
    }
   ],
   "source": [
    "# Sub-sampling without control variates and with weights:\n",
    "mb_size_list = 1:10\n",
    "max_attempts = 10^7\n",
    "lambda = 2e1\n",
    "Print = false"
   ]
  },
  {
   "cell_type": "code",
   "execution_count": 14,
   "metadata": {},
   "outputs": [
    {
     "ename": "LoadError",
     "evalue": "\u001b[91mInterruptException:\u001b[39m",
     "output_type": "error",
     "traceback": [
      "\u001b[91mInterruptException:\u001b[39m",
      "",
      "Stacktrace:",
      " [1] \u001b[1mfeed\u001b[22m\u001b[22m\u001b[1m(\u001b[22m\u001b[22m::outputscheduler, ::zz_state, ::SS_prior, ::Float64, ::Bool\u001b[1m)\u001b[22m\u001b[22m at \u001b[1m/home/postdoc/dsen/Desktop/G-ZZ/jl_files/zz_samplers.jl:70\u001b[22m\u001b[22m",
      " [2] \u001b[1mZZ_block_sample\u001b[22m\u001b[22m\u001b[1m(\u001b[22m\u001b[22m::model, ::outputscheduler, ::Array{msampler,1}, ::zz_state, ::Bool\u001b[1m)\u001b[22m\u001b[22m at \u001b[1m/home/postdoc/dsen/Desktop/G-ZZ/jl_files/zz_samplers.jl:326\u001b[22m\u001b[22m",
      " [3] \u001b[1mrun_sampler\u001b[22m\u001b[22m\u001b[1m(\u001b[22m\u001b[22m::model, ::Float64, ::Int64, ::Int64, ::Bool, ::Float64, ::String\u001b[1m)\u001b[22m\u001b[22m at \u001b[1m/home/postdoc/dsen/Desktop/G-ZZ/shrinkage_prior/synthetic_data/temp.jl:43\u001b[22m\u001b[22m",
      " [4] \u001b[1mmacro expansion\u001b[22m\u001b[22m at \u001b[1m./In[14]:4\u001b[22m\u001b[22m [inlined]",
      " [5] \u001b[1manonymous\u001b[22m\u001b[22m at \u001b[1m./<missing>:?\u001b[22m\u001b[22m",
      " [6] \u001b[1minclude_string\u001b[22m\u001b[22m\u001b[1m(\u001b[22m\u001b[22m::String, ::String\u001b[1m)\u001b[22m\u001b[22m at \u001b[1m./loading.jl:522\u001b[22m\u001b[22m"
     ]
    }
   ],
   "source": [
    "start_overall = time()\n",
    "for mb_size in mb_size_list \n",
    "    start = time()\n",
    "    run_sampler(my_model, lambda, max_attempts, mb_size, Print) \n",
    "    print(\"Sampling for mb_size = \", mb_size, \" in \", round((time()-start)/60,1), \" mins \\n\")\n",
    "end\n",
    "print(\"Overall in \", round((time()-start_overall)/60,1), \" mins\")"
   ]
  },
  {
   "cell_type": "code",
   "execution_count": null,
   "metadata": {},
   "outputs": [],
   "source": [
    "fig = figure(\"pyplot_barplot\",figsize=(12,4))\n",
    "n_samples = 10^4-1\n",
    "maxlag = 1000\n",
    "discard = 0\n",
    "iacts = zeros(10)\n",
    "for j in 1:2 \n",
    "    for i in 1:5\n",
    "        k = (j-1)*5+i\n",
    "        filename  = \"/xtmp/GZZ_data/shrinkage_prior/synthetic_data/lambda:\"*\n",
    "        string(lambda)*\"-d:\"*string(d)*\"-Nobs:\"*\n",
    "        string(Nobs)*\"-mb_size:\"*string(mb_size_list[k])*\".jld\"\n",
    "        \n",
    "        xt_skel, bt_skel = load(filename, \"xt_skeleton\", \"bt_skeleton\")\n",
    "        xi_samples = extract_samples(xt_skel[:,discard+1:end], \n",
    "                                     bt_skel[:,discard+1:end], \n",
    "                                    (bt_skel[end]-bt_skel[discard+1])/n_samples,\n",
    "                                    \"linear\")[:,1:end-1];\n",
    "        subplot(2,5,k)\n",
    "        for dim in 1:size(xi_samples,1)\n",
    "            plot(acf(xi_samples[dim,:],maxlag))\n",
    "            title(\"mb size = \"*string(round(mb_size_list[k],3)), fontsize=10)\n",
    "            grid(true)\n",
    "        end\n",
    "        iacts[k] = maximum([sum(acf(xi_samples[dim,:],maxlag)) for dim in 1:size(xi_samples,1)])\n",
    "        print(\"mb size = \"*string(round(mb_size_list[k],2)), \" slowest mixing = \", \n",
    "                round(iacts[k],1), \"\\n\")\n",
    "        xt_skel, bt_skel, xi_samples = [], [], []\n",
    "        gc()\n",
    "    end\n",
    "end\n",
    "subplots_adjust(hspace=0.4)"
   ]
  },
  {
   "cell_type": "code",
   "execution_count": null,
   "metadata": {
    "collapsed": true
   },
   "outputs": [],
   "source": []
  }
 ],
 "metadata": {
  "kernelspec": {
   "display_name": "Julia 0.6.4",
   "language": "julia",
   "name": "julia-0.6"
  },
  "language_info": {
   "file_extension": ".jl",
   "mimetype": "application/julia",
   "name": "julia",
   "version": "0.6.4"
  }
 },
 "nbformat": 4,
 "nbformat_minor": 2
}

{
 "cells": [
  {
   "cell_type": "code",
   "execution_count": 1,
   "metadata": {},
   "outputs": [
    {
     "data": {
      "text/plain": [
       "run_sampler (generic function with 4 methods)"
      ]
     },
     "execution_count": 1,
     "metadata": {},
     "output_type": "execute_result"
    }
   ],
   "source": [
    "using Distributions, TimeIt, ProgressMeter, PyPlot, JLD\n",
    "include(\"/home/postdoc/dsen/Desktop/codes/G-ZZ_clean/jl_files/zz_samplers.jl\")\n",
    "include(\"temp.jl\")"
   ]
  },
  {
   "cell_type": "raw",
   "metadata": {},
   "source": [
    "d, Nobs = 501, 700\n",
    "pX = 50/d\n",
    "pξ = 1e-1\n",
    "X = sprandn(d, Nobs, pX)\n",
    "X[1,:] = 1\n",
    "ξ_true = sprandn(d, pξ)\n",
    "y = Float64.([rand(Binomial(1, 1/(1+exp(-ξ_true'X[:,j])))) for j in 1:Nobs])\n",
    "save(\"shrinkage_data_2.02.new.jld\", \"X\", X, \"y\", y)"
   ]
  },
  {
   "cell_type": "code",
   "execution_count": 3,
   "metadata": {
    "collapsed": true
   },
   "outputs": [],
   "source": [
    "X, y = load(\"shrinkage_data_2.02.new.jld\", \"X\", \"y\")\n",
    "d, Nobs = size(X)\n",
    "σ02 = 1\n",
    "my_pr = SS_prior(d, σ02)\n",
    "my_ll = ll_logistic_sp(X,y)\n",
    "my_model = model(my_ll, my_pr);"
   ]
  },
  {
   "cell_type": "markdown",
   "metadata": {},
   "source": [
    "### GZZ:"
   ]
  },
  {
   "cell_type": "code",
   "execution_count": 4,
   "metadata": {
    "collapsed": true
   },
   "outputs": [],
   "source": [
    "# Sub-sampling without control variates and with weights:\n",
    "mb_size = 1\n",
    "max_attempts = 5*10^7\n",
    "lambda = 2e1\n",
    "Print = true;"
   ]
  },
  {
   "cell_type": "code",
   "execution_count": null,
   "metadata": {},
   "outputs": [
    {
     "name": "stdout",
     "output_type": "stream",
     "text": [
      "10 percent attempts in 187.80 min; zz bounces = 622147, hyp bounces = 3279, total time of process = 164.253 \n",
      "20"
     ]
    }
   ],
   "source": [
    "start = time()\n",
    "run_sampler(my_model, lambda, max_attempts, mb_size, Print) \n",
    "print(\"Sampling in \", round((time()-start)/60,1), \" mins \\n\")"
   ]
  },
  {
   "cell_type": "code",
   "execution_count": null,
   "metadata": {
    "collapsed": true
   },
   "outputs": [],
   "source": [
    "fig = figure(\"pyplot_barplot\",figsize=(5,3))\n",
    "n_samples = 10^4\n",
    "maxlag_gzz = 500\n",
    "acfs_gzz = zeros(d,maxlag_gzz)\n",
    "discard = 0\n",
    "filename  = \"/xtmp/GZZ_data/shrinkage_prior/synthetic_data/lambda:\"*string(lambda)*\n",
    "            \"-d:\"*string(d)*\"-Nobs:\"*string(Nobs)*\"-mb_size:\"*string(mb_size)*\".jld\"\n",
    "xt_skel, bt_skel = load(filename, \"xt_skeleton\", \"bt_skeleton\")\n",
    "xi_samples_gzz = extract_samples(xt_skel[:,discard+1:end], \n",
    "                             bt_skel[:,discard+1:end], \n",
    "                            (bt_skel[end]-bt_skel[discard+1])/n_samples,\n",
    "                            \"linear\")[:,1:end-1]\n",
    "iacts_gzz = zeros(size(xi_samples_gzz,1))\n",
    "for dim in 1:size(xi_samples_gzz,1)\n",
    "    a = acf(xi_samples_gzz[dim,:],maxlag_gzz)\n",
    "    plot(a)\n",
    "    acfs_gzz[dim,:] = a\n",
    "end\n",
    "title(\"ACFs for GZZ\")\n",
    "xlabel(\"Lag\")\n",
    "ylabel(\"ACF\")\n",
    "grid(true)\n",
    "xt_skel, bt_skel, xi_samples = [], [], []\n",
    "gc()"
   ]
  },
  {
   "cell_type": "code",
   "execution_count": null,
   "metadata": {
    "collapsed": true
   },
   "outputs": [],
   "source": []
  },
  {
   "cell_type": "code",
   "execution_count": null,
   "metadata": {
    "collapsed": true
   },
   "outputs": [],
   "source": []
  }
 ],
 "metadata": {
  "kernelspec": {
   "display_name": "Julia 0.6.4",
   "language": "julia",
   "name": "julia-0.6"
  },
  "language_info": {
   "file_extension": ".jl",
   "mimetype": "application/julia",
   "name": "julia",
   "version": "0.6.4"
  }
 },
 "nbformat": 4,
 "nbformat_minor": 2
}

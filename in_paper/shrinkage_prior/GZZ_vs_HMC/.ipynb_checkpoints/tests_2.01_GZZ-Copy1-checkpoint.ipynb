{
 "cells": [
  {
   "cell_type": "code",
   "execution_count": 8,
   "metadata": {},
   "outputs": [
    {
     "data": {
      "text/plain": [
       "run_sampler (generic function with 4 methods)"
      ]
     },
     "execution_count": 8,
     "metadata": {},
     "output_type": "execute_result"
    }
   ],
   "source": [
    "using Distributions, TimeIt, ProgressMeter, PyPlot, JLD\n",
    "include(\"/home/postdoc/dsen/Desktop/codes/G-ZZ_clean/jl_files/zz_samplers.jl\")\n",
    "include(\"temp.jl\")"
   ]
  },
  {
   "cell_type": "code",
   "execution_count": 9,
   "metadata": {
    "collapsed": true
   },
   "outputs": [],
   "source": [
    "d, Nobs = 251, 1000\n",
    "pX = 100/d\n",
    "pξ = 1e-1\n",
    "X = sprandn(d, Nobs, pX)\n",
    "X[1,:] = 1\n",
    "ξ_true = sprandn(d, pξ)\n",
    "y = Float64.([rand(Binomial(1, 1/(1+exp(-ξ_true'X[:,j])))) for j in 1:Nobs])\n",
    "save(\"shrinkage_data_2.01.new.jld\", \"X\", X, \"y\", y)"
   ]
  },
  {
   "cell_type": "code",
   "execution_count": 10,
   "metadata": {
    "collapsed": true
   },
   "outputs": [],
   "source": [
    "X, y = load(\"shrinkage_data_2.01.new.jld\", \"X\", \"y\")\n",
    "d, Nobs = size(X)\n",
    "σ02 = 1\n",
    "my_pr = SS_prior(d, σ02)\n",
    "my_ll = ll_logistic_sp(X,y)\n",
    "my_model = model(my_ll, my_pr);"
   ]
  },
  {
   "cell_type": "markdown",
   "metadata": {},
   "source": [
    "### GZZ:"
   ]
  },
  {
   "cell_type": "code",
   "execution_count": 11,
   "metadata": {
    "collapsed": true
   },
   "outputs": [],
   "source": [
    "# Sub-sampling without control variates and with weights:\n",
    "mb_size = 1\n",
    "max_attempts = 5*10^5\n",
    "lambda = 2e1\n",
    "Print = true;"
   ]
  },
  {
   "cell_type": "code",
   "execution_count": 12,
   "metadata": {},
   "outputs": [
    {
     "name": "stdout",
     "output_type": "stream",
     "text": [
      "10 percent attempts in 0.62 min; zz bounces = 11012, hyp bounces = 5, total time of process = 0.601 \n",
      "20 percent attempts in 1.31 min; zz bounces = 20724, hyp bounces = 20, total time of process = 1.201 \n",
      "30 percent attempts in 2.01 min; zz bounces = 29526, hyp bounces = 32, total time of process = 1.800 \n",
      "40 percent attempts in 2.71 min; zz bounces = 37484, hyp bounces = 41, total time of process = 2.404 \n",
      "50 percent attempts in 3.40 min; zz bounces = 44830, hyp bounces = 54, total time of process = 3.005 \n",
      "60 percent attempts in 4.08 min; zz bounces = 51627, hyp bounces = 71, total time of process = 3.602 \n",
      "70 percent attempts in 4.76 min; zz bounces = 58250, hyp bounces = 83, total time of process = 4.200 \n",
      "80 percent attempts in 5.43 min; zz bounces = 64601, hyp bounces = 93, total time of process = 4.801 \n",
      "90 percent attempts in 6.11 min; zz bounces = 70925, hyp bounces = 105, total time of process = 5.405 \n",
      "100 percent attempts in 6.78 min; zz bounces = 77060, hyp bounces = 123, total time of process = 6.006 \n",
      "Sampling in 6.8 mins \n"
     ]
    }
   ],
   "source": [
    "start = time()\n",
    "run_sampler(my_model, lambda, max_attempts, mb_size, Print) \n",
    "print(\"Sampling in \", round((time()-start)/60,1), \" mins \\n\")"
   ]
  },
  {
   "cell_type": "code",
   "execution_count": 13,
   "metadata": {},
   "outputs": [
    {
     "ename": "LoadError",
     "evalue": "\u001b[91mDimensionMismatch(\"tried to assign 501-element array to 1×500 destination\")\u001b[39m",
     "output_type": "error",
     "traceback": [
      "\u001b[91mDimensionMismatch(\"tried to assign 501-element array to 1×500 destination\")\u001b[39m",
      "",
      "Stacktrace:",
      " [1] \u001b[1mthrow_setindex_mismatch\u001b[22m\u001b[22m\u001b[1m(\u001b[22m\u001b[22m::Array{Float64,1}, ::Tuple{Int64,Int64}\u001b[1m)\u001b[22m\u001b[22m at \u001b[1m./indices.jl:94\u001b[22m\u001b[22m",
      " [2] \u001b[1msetindex_shape_check\u001b[22m\u001b[22m\u001b[1m(\u001b[22m\u001b[22m::Array{Float64,1}, ::Int64, ::Int64\u001b[1m)\u001b[22m\u001b[22m at \u001b[1m./indices.jl:146\u001b[22m\u001b[22m",
      " [3] \u001b[1mmacro expansion\u001b[22m\u001b[22m at \u001b[1m./multidimensional.jl:554\u001b[22m\u001b[22m [inlined]",
      " [4] \u001b[1m_unsafe_setindex!\u001b[22m\u001b[22m\u001b[1m(\u001b[22m\u001b[22m::IndexLinear, ::Array{Float64,2}, ::Array{Float64,1}, ::Int64, ::Base.Slice{Base.OneTo{Int64}}\u001b[1m)\u001b[22m\u001b[22m at \u001b[1m./multidimensional.jl:549\u001b[22m\u001b[22m",
      " [5] \u001b[1mmacro expansion\u001b[22m\u001b[22m at \u001b[1m./multidimensional.jl:541\u001b[22m\u001b[22m [inlined]",
      " [6] \u001b[1m_setindex!\u001b[22m\u001b[22m at \u001b[1m./multidimensional.jl:537\u001b[22m\u001b[22m [inlined]",
      " [7] \u001b[1msetindex!\u001b[22m\u001b[22m\u001b[1m(\u001b[22m\u001b[22m::Array{Float64,2}, ::Array{Float64,1}, ::Int64, ::Colon\u001b[1m)\u001b[22m\u001b[22m at \u001b[1m./abstractarray.jl:968\u001b[22m\u001b[22m",
      " [8] \u001b[1mmacro expansion\u001b[22m\u001b[22m at \u001b[1m./In[13]:17\u001b[22m\u001b[22m [inlined]",
      " [9] \u001b[1manonymous\u001b[22m\u001b[22m at \u001b[1m./<missing>:?\u001b[22m\u001b[22m",
      " [10] \u001b[1minclude_string\u001b[22m\u001b[22m\u001b[1m(\u001b[22m\u001b[22m::String, ::String\u001b[1m)\u001b[22m\u001b[22m at \u001b[1m./loading.jl:522\u001b[22m\u001b[22m"
     ]
    }
   ],
   "source": [
    "fig = figure(\"pyplot_barplot\",figsize=(5,3))\n",
    "n_samples = 10^4\n",
    "maxlag_gzz = 500\n",
    "acfs_gzz = zeros(d,maxlag_gzz)\n",
    "discard = 0\n",
    "filename  = \"/xtmp/GZZ_data/shrinkage_prior/synthetic_data/lambda:\"*string(lambda)*\n",
    "            \"-d:\"*string(d)*\"-Nobs:\"*string(Nobs)*\"-mb_size:\"*string(mb_size)*\".jld\"\n",
    "xt_skel, bt_skel = load(filename, \"xt_skeleton\", \"bt_skeleton\")\n",
    "xi_samples_gzz = extract_samples(xt_skel[:,discard+1:end], \n",
    "                             bt_skel[:,discard+1:end], \n",
    "                            (bt_skel[end]-bt_skel[discard+1])/n_samples,\n",
    "                            \"linear\")[:,1:end-1]\n",
    "iacts_gzz = zeros(size(xi_samples_gzz,1))\n",
    "for dim in 1:size(xi_samples_gzz,1)\n",
    "    a = acf(xi_samples_gzz[dim,:],maxlag_gzz)\n",
    "    plot(a)\n",
    "    acfs_gzz[dim,:] = a\n",
    "end\n",
    "title(\"ACFs for GZZ\")\n",
    "xlabel(\"Lag\")\n",
    "ylabel(\"ACF\")\n",
    "grid(true)\n",
    "xt_skel, bt_skel, xi_samples = [], [], []\n",
    "gc()"
   ]
  },
  {
   "cell_type": "code",
   "execution_count": null,
   "metadata": {
    "collapsed": true
   },
   "outputs": [],
   "source": []
  },
  {
   "cell_type": "code",
   "execution_count": null,
   "metadata": {
    "collapsed": true
   },
   "outputs": [],
   "source": []
  }
 ],
 "metadata": {
  "kernelspec": {
   "display_name": "Julia 0.6.4",
   "language": "julia",
   "name": "julia-0.6"
  },
  "language_info": {
   "file_extension": ".jl",
   "mimetype": "application/julia",
   "name": "julia",
   "version": "0.6.4"
  }
 },
 "nbformat": 4,
 "nbformat_minor": 2
}

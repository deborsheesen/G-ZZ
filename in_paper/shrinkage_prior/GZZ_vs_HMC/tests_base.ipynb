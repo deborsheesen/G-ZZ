{
 "cells": [
  {
   "cell_type": "code",
   "execution_count": 1,
   "metadata": {},
   "outputs": [
    {
     "data": {
      "text/plain": [
       "run_sampler (generic function with 4 methods)"
      ]
     },
     "execution_count": 1,
     "metadata": {},
     "output_type": "execute_result"
    }
   ],
   "source": [
    "using Distributions, TimeIt, ProgressMeter, PyPlot, JLD\n",
    "include(\"/home/postdoc/dsen/Desktop/codes/G-ZZ_clean/jl_files/zz_samplers.jl\")\n",
    "include(\"temp.jl\")"
   ]
  },
  {
   "cell_type": "code",
   "execution_count": 2,
   "metadata": {
    "collapsed": true
   },
   "outputs": [],
   "source": [
    "d, Nobs = 51, 100\n",
    "pX = 5e-1\n",
    "pξ = 1e-1\n",
    "X = sprandn(d, Nobs, pX)\n",
    "X[1,:] = 1\n",
    "ξ_true = sprandn(d, pξ)\n",
    "y = Float64.([rand(Binomial(1, 1/(1+exp(-ξ_true'X[:,j])))) for j in 1:Nobs])\n",
    "σ02 = 1\n",
    "my_pr = SS_prior(d, σ02)\n",
    "my_ll = ll_logistic_sp(X,y)\n",
    "my_model = model(my_ll, my_pr);"
   ]
  },
  {
   "cell_type": "markdown",
   "metadata": {},
   "source": [
    "### GZZ:"
   ]
  },
  {
   "cell_type": "code",
   "execution_count": 3,
   "metadata": {
    "collapsed": true
   },
   "outputs": [],
   "source": [
    "# Sub-sampling without control variates and with weights:\n",
    "mb_size = 1\n",
    "max_attempts = 10^5\n",
    "lambda = 5e1\n",
    "Print = true\n",
    "prob_het = 0.98\n",
    "adapt_speed = \"none\";"
   ]
  },
  {
   "cell_type": "code",
   "execution_count": 4,
   "metadata": {},
   "outputs": [
    {
     "name": "stdout",
     "output_type": "stream",
     "text": [
      "10 percent attempts in 0.08 min; zz bounces = 1710, hyp bounces = 218, total time of process = 4.453 \n",
      "20 percent attempts in 0.12 min; zz bounces = 3037, hyp bounces = 442, total time of process = 8.907 \n",
      "30 percent attempts in 0.16 min; zz bounces = 4233, hyp bounces = 694, total time of process = 13.433 \n",
      "40 percent attempts in 0.20 min; zz bounces = 5441, hyp bounces = 916, total time of process = 17.940 \n",
      "50 percent attempts in 0.24 min; zz bounces = 6690, hyp bounces = 1146, total time of process = 22.457 \n",
      "60 percent attempts in 0.29 min; zz bounces = 7786, hyp bounces = 1360, total time of process = 26.988 \n",
      "70 percent attempts in 0.33 min; zz bounces = 9050, hyp bounces = 1587, total time of process = 31.547 \n",
      "80 percent attempts in 0.37 min; zz bounces = 10303, hyp bounces = 1810, total time of process = 36.028 \n",
      "90 percent attempts in 0.42 min; zz bounces = 11646, hyp bounces = 2027, total time of process = 40.417 \n",
      "100 percent attempts in 0.46 min; zz bounces = 13038, hyp bounces = 2269, total time of process = 44.784 \n"
     ]
    }
   ],
   "source": [
    "gs = Array{mbsampler}(d)\n",
    "gs[1] = umbsampler(0, Nobs, mb_size)\n",
    "\n",
    "for i in 2:d\n",
    "    weights_het = abs.(my_model.ll.X[i,:])./sum(abs.(my_model.ll.X[i,:]))\n",
    "    if length(my_model.ll.X[i,:].nzind) < length(my_model.ll.X[i,:]) \n",
    "        gs[i] = spwumbsampler(Nobs, mb_size, weights_het, prob_het)\n",
    "    else \n",
    "        gs[i] = wumbsampler(Nobs, mb_size, weights_het)\n",
    "    end\n",
    "end\n",
    "gs_list = mbsampler_list(d,gs);\n",
    "\n",
    "# Define output scheduler etc:\n",
    "A_xi = eye(d)\n",
    "#A_hyp = eye(hyperparam_size(my_model.pr))\n",
    "A_hyp = ones(1,hyperparam_size(my_model.pr))/hyperparam_size(my_model.pr)\n",
    "\n",
    "opf = projopf(A_xi, A_hyp, 10^3)\n",
    "opt = maxa_opt(max_attempts)\n",
    "outp = outputscheduler(opf,opt)\n",
    "bb = linear_bound(my_model.ll, my_model.pr, gs_list)\n",
    "mstate = zz_state(d)\n",
    "update_bound(bb, my_model.ll, my_model.pr, gs_list, mstate)\n",
    "\n",
    "# Define block Gibbs sampler:\n",
    "L = 1\n",
    "my_zz_sampler = zz_sampler(0, gs_list, bb, L, adapt_speed)\n",
    "hyper_sampler = block_gibbs_sampler(lambda)\n",
    "blocksampler = Array{msampler}(2)\n",
    "blocksampler[1] = my_zz_sampler\n",
    "blocksampler[2] = hyper_sampler\n",
    "\n",
    "# Run sampler:\n",
    "ZZ_block_sample(my_model, outp, blocksampler, mstate, Print);"
   ]
  },
  {
   "cell_type": "code",
   "execution_count": null,
   "metadata": {
    "collapsed": true
   },
   "outputs": [],
   "source": []
  },
  {
   "cell_type": "code",
   "execution_count": null,
   "metadata": {
    "collapsed": true
   },
   "outputs": [],
   "source": []
  },
  {
   "cell_type": "code",
   "execution_count": null,
   "metadata": {
    "collapsed": true
   },
   "outputs": [],
   "source": []
  }
 ],
 "metadata": {
  "kernelspec": {
   "display_name": "Julia 0.6.4",
   "language": "julia",
   "name": "julia-0.6"
  },
  "language_info": {
   "file_extension": ".jl",
   "mimetype": "application/julia",
   "name": "julia",
   "version": "0.6.4"
  }
 },
 "nbformat": 4,
 "nbformat_minor": 2
}
